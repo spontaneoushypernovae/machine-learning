{
 "metadata": {
  "name": "",
  "signature": "sha256:90720f3e08198c0a2adbeb866b67766dd2d4c3cf17b7cc3b1e9aa1b7bf346957"
 },
 "nbformat": 3,
 "nbformat_minor": 0,
 "worksheets": [
  {
   "cells": [
    {
     "cell_type": "heading",
     "level": 2,
     "metadata": {},
     "source": [
      "Overview"
     ]
    },
    {
     "cell_type": "markdown",
     "metadata": {},
     "source": [
      "In this exercise, I will review core concepts and implement Logistic Regression with regularization (in python), using the Stanford Machine Learning Online course; <i>Programming Exercise 2: Logistic Regression (Week 3)</i> to illustrate."
     ]
    },
    {
     "cell_type": "heading",
     "level": 2,
     "metadata": {},
     "source": [
      "Part 1: Dataset"
     ]
    },
    {
     "cell_type": "markdown",
     "metadata": {},
     "source": [
      "The dataset for this part of the exercise consists of 118 examples, used to predict whether microchips from a fabrication plant pass quality assurance (QA) tests. The first two columns of each training example contain scores each chip obtained on two QA tests, while the last column indicates whether or not the chip passed the test. We can load the dataset using numpy as follows: "
     ]
    },
    {
     "cell_type": "code",
     "collapsed": false,
     "input": [
      "import numpy as np\n",
      "from numpy import loadtxt\n",
      "\n",
      "\n",
      "def load_data(input_file, delim=','):\n",
      "    data = np.loadtxt(input_file, delimiter=delim)\n",
      "    n_features = data.shape[1]-1 \n",
      "    if n_features == 1: \n",
      "        X = data[:,0]\n",
      "    else: \n",
      "        X = data[:,np.arange(n_features)]\n",
      "    y = data[:,n_features]\n",
      "    assert len(X) == len(y)\n",
      "    print(\"Number of training examples: %i\" % X.shape[0])\n",
      "    print(\"Number of features: %s\" % X.shape[1])\n",
      "\n",
      "    return X, y\n",
      "X,y = load_data(\"ex2data2.txt\");\n",
      "print(X.shape)"
     ],
     "language": "python",
     "metadata": {},
     "outputs": [
      {
       "output_type": "stream",
       "stream": "stdout",
       "text": [
        "Number of training examples: 118\n",
        "Number of features: 2\n",
        "(118, 2)\n"
       ]
      }
     ],
     "prompt_number": 1
    },
    {
     "cell_type": "markdown",
     "metadata": {},
     "source": [
      "We can visualize the dataset using matplotlib. "
     ]
    },
    {
     "cell_type": "code",
     "collapsed": false,
     "input": [
      "import matplotlib.pyplot as plt\n",
      "%matplotlib inline\n",
      "\n",
      "plt.title('Scatter plot of training data') \n",
      "plt.xlabel('Microchip Test 1')\n",
      "plt.ylabel('Microchip Test 2')\n",
      "\n",
      "x_pos = np.where(y == 1)\n",
      "x_neg = np.where(y == 0)\n",
      "\n",
      "adm = plt.scatter(X[x_pos][:,0], X[x_pos][:,1], marker='+', color='k')\n",
      "not_adm = plt.scatter(X[x_neg][:,0], X[x_neg][:,1], marker='o', color='y')\n",
      "plt.legend((adm, not_adm), ('y = 1', 'y = 0'), \n",
      "           scatterpoints=1, loc=\"upper right\")\n",
      "plt.show()"
     ],
     "language": "python",
     "metadata": {},
     "outputs": [
      {
       "metadata": {},
       "output_type": "display_data",
       "png": "[encoded data removed]",
       "text": [
        "<matplotlib.figure.Figure at 0x113068ad0>"
       ]
      }
     ],
     "prompt_number": 2
    },
    {
     "cell_type": "heading",
     "level": 2,
     "metadata": {},
     "source": [
      "Part 2: Training the Model"
     ]
    },
    {
     "cell_type": "markdown",
     "metadata": {},
     "source": [
      "The figure shows that the data is not linearly separable, therefore a typical application of logistic regression might not create the best decision boundary to classify the data. Instead, we must adapt classical logistic regression to create non-linear decision boundaries. One way to do this is the use more complex features. "
     ]
    },
    {
     "cell_type": "heading",
     "level": 3,
     "metadata": {},
     "source": [
      "Feature Mapping"
     ]
    },
    {
     "cell_type": "markdown",
     "metadata": {},
     "source": [
      "One way to create more complex features is to make new features out of the existing features (i.e., polynomial features). For example, let's re-examine the hypothesis function from linear regression. \n",
      "\n",
      "$$h_{\\theta}(x) = \\theta_0 + \\theta_1 x_1 + \\theta_2 x_2$$\n",
      "\n",
      "We could add polynomial features that create the following hypothesis \n",
      "\n",
      "$$h_{\\theta}(x) = \\theta_0 + \\theta_1 x_1 + \\theta_2 x_2 + \\theta_3 x_1 x_2 + \\theta_4 x_1^2 + \\theta_5 x_2^2 + \\ldots, $$\n",
      "\n",
      "which is no longer linear, but has multiple dimensions. \n",
      "\n",
      "Adding polynomial features will likely enable the classifier to fix non-linear decision boundaries. However, the disavantage is that the classifier may become susceptible to overtraining, showing <b>high variance</b> towards the training data. Essentially, the classifier may not generalize particularly well, but instead tend to fit the training data, while perform poorly on unseen test data. To combat this <b>overfitting</b> problem, we can apply <b>regularization</b>. "
     ]
    },
    {
     "cell_type": "heading",
     "level": 3,
     "metadata": {},
     "source": [
      "Regularization"
     ]
    },
    {
     "cell_type": "markdown",
     "metadata": {},
     "source": [
      "In machine learning, regularization is a technique for discounting certain features that are likely to unduly influence  training, leading to high variance models. To perform regularization, we inflate cost of each feature to be discounted, which in turn reduces the parameter $\\theta$ for the given feature, making it small, but not eliminating the feature algother.  This limits the impact of such features on prediction but does not eliminate them. For examples, we could regularize the cost of features 3, 4, and 5, by including a multiplier of 1000 for feature 3 ($x_1 x_2$), feature 4 ($x_1^2$), and feature 5 ($x_2^2$).\n",
      "\n",
      "$$J(\\theta) = \\frac{1}{m} \\sum_{i=1}^m  [- y^{(i)} \\log(h_{\\theta}(x^{(i)})) - (1 - y^{(i)}) \\log(1 - h_{\\theta}(x^{(i)}))] + 1000 \\cdot \\theta_3 + 1000 \\cdot \\theta_4  + 1000 \\cdot \\theta_5 $$\n",
      "\n",
      "This will discount the values for $\\theta_3$, $\\theta_4$, and $\\theta_5$ in the logistic regression model. \n"
     ]
    },
    {
     "cell_type": "heading",
     "level": 3,
     "metadata": {},
     "source": [
      "Cost Function"
     ]
    },
    {
     "cell_type": "markdown",
     "metadata": {},
     "source": [
      "More generally, we can regularize all parameters of the logistic regression model (except the bias) as follows: \n",
      "\n",
      "$$J(\\theta) = \\frac{1}{m} \\sum_{i=1}^m  [- y^{(i)} \\log(h_{\\theta}(x^{(i)})) - (1 - y^{(i)}) \\log(1 - h_{\\theta}(x^{(i)}))] + \\frac{\\lambda}{2m} \\sum_{j=1}^n \\theta_j^2,$$\n",
      "\n",
      "\n",
      "where $\\lambda$ is called the <b>regularization parameter</b> and $j$ is the index of the $j^{th}$ feature. In python, we can implement this regularized cost function as follows:"
     ]
    },
    {
     "cell_type": "code",
     "collapsed": false,
     "input": [
      "def sigmoid_hypothesis(z):\n",
      "    return 1/(1 + np.exp(-z))\n",
      "\n",
      "reg_param = 0.01\n",
      "def compute_cost_reg(theta, X, y):\n",
      "    m = X.shape[0]\n",
      "    z = X.dot(theta)\n",
      "    g = sigmoid_hypothesis(z)\n",
      "    cost = (-y.T.dot(np.log(g)) -\n",
      "            (1 - y).T.dot(np.log(1 - g))) / float(m)\n",
      "    \n",
      "    #FIXME - do not regularize the first bias\n",
      "    J = cost + (reg_param/(2*float(m))) * np.sum(np.square(theta))\n",
      "    return J\n",
      "    \n",
      "X, y = load_data(\"ex2data2.txt\")\n",
      "x_zero = np.ones(len(X))\n",
      "X = np.column_stack([x_zero, X])\n",
      "theta = np.zeros(X.shape[1]).reshape(X.shape[1],1)\n",
      "\n",
      "J = compute_cost_reg(theta, X, y)\n",
      "print(\"Initial Cost: %.3f\" % J)"
     ],
     "language": "python",
     "metadata": {},
     "outputs": [
      {
       "output_type": "stream",
       "stream": "stdout",
       "text": [
        "Number of training examples: 118\n",
        "Number of features: 2\n",
        "Initial Cost: 0.693\n"
       ]
      }
     ],
     "prompt_number": 46
    },
    {
     "cell_type": "heading",
     "level": 3,
     "metadata": {},
     "source": [
      "Gradient"
     ]
    },
    {
     "cell_type": "markdown",
     "metadata": {},
     "source": [
      "Given this regularized cost function, we can compute the regularized gradient as the derivative of the cost function.  \n",
      "\n",
      "$$\\theta_j = \\frac{1}{m} (x^{(i)}) (g(\\theta x^{(i)}) - y^{(i)})+ \\frac{\\lambda}{m} \\sum_{j=1}^n \\theta_j$$. \n",
      "\n",
      "The vectorized version of the gradient is as follows:\n",
      "\n",
      "$$\\Theta = \\frac{1}{m} X (h_{\\theta}(X) - Y)+ \\frac{\\lambda}{m} \\sum_{j=1}^n \\theta_j$$. \n"
     ]
    },
    {
     "cell_type": "code",
     "collapsed": false,
     "input": [],
     "language": "python",
     "metadata": {},
     "outputs": []
    }
   ],
   "metadata": {}
  }
 ]
}