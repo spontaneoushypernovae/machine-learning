{
 "cells": [
  {
   "cell_type": "markdown",
   "metadata": {},
   "source": [
    "## Overview"
   ]
  },
  {
   "cell_type": "markdown",
   "metadata": {},
   "source": [
    "In this exercise, I will review core concepts and implement Logistic Regression without regularization (in python), using the Stanford Machine Learning Online course; <i>Programming Exercise 2: Logistic Regression (Week 3)</i> to illustrate."
   ]
  },
  {
   "cell_type": "markdown",
   "metadata": {},
   "source": [
    "## Part 1: Dataset"
   ]
  },
  {
   "cell_type": "markdown",
   "metadata": {},
   "source": [
    "The dataset for this exercise consists of 100 training examples, used to predict whether or not a new applicant will be admitted into a university. Each training example consists of two exam scores as features and a boolean value indicating whether or not an applicant was accepted. The dataset can be loaded using numpy: "
   ]
  },
  {
   "cell_type": "code",
   "execution_count": 3,
   "metadata": {
    "collapsed": false
   },
   "outputs": [
    {
     "name": "stdout",
     "output_type": "stream",
     "text": [
      "Number of training examples: 100\n",
      "Number of features: 2\n",
      "(100, 2)\n"
     ]
    }
   ],
   "source": [
    "import numpy as np\n",
    "from numpy import loadtxt\n",
    "\n",
    "\n",
    "def load_data(input_file, delim=','):\n",
    "    data = np.loadtxt(input_file, delimiter=delim)\n",
    "    n_features = data.shape[1]-1 \n",
    "    if n_features == 1: \n",
    "        X = data[:,0]\n",
    "    else: \n",
    "        X = data[:,np.arange(n_features)]\n",
    "    y = data[:,n_features]\n",
    "    assert len(X) == len(y)\n",
    "    print(\"Number of training examples: %i\" % X.shape[0])\n",
    "    print(\"Number of features: %s\" % X.shape[1])\n",
    "\n",
    "    return X, y\n",
    "X,y = load_data(\"ex2data1.txt\");\n",
    "print(X.shape)"
   ]
  },
  {
   "cell_type": "markdown",
   "metadata": {},
   "source": [
    "The dataset can then be visualized using matplotlib. "
   ]
  },
  {
   "cell_type": "code",
   "execution_count": 4,
   "metadata": {
    "collapsed": false
   },
   "outputs": [
    {
     "data": {
      "image/png": "[encoded data removed]",
      "text/plain": [
       "<matplotlib.figure.Figure at 0x106698470>"
      ]
     },
     "metadata": {},
     "output_type": "display_data"
    }
   ],
   "source": [
    "%matplotlib inline\n",
    "import matplotlib.pyplot as plt\n",
    "plt.title('Scatter plot of training data') \n",
    "plt.xlabel('Exam 1 Score')\n",
    "plt.ylabel('Exam 2 score')\n",
    "\n",
    "x_pos = np.where(y == 1)\n",
    "x_neg = np.where(y == 0)\n",
    "\n",
    "adm = plt.scatter(X[x_pos][:,0], X[x_pos][:,1], marker='+', color='k')\n",
    "not_adm = plt.scatter(X[x_neg][:,0], X[x_neg][:,1], marker='o', color='y')\n",
    "plt.legend((adm, not_adm), ('Admitted', 'Not Admitted'), scatterpoints=1, loc=\"upper right\")\n",
    "plt.xlim(30, 100)\n",
    "plt.ylim(30, 100)\n",
    "plt.show()"
   ]
  },
  {
   "cell_type": "markdown",
   "metadata": {},
   "source": [
    "To train the model, we will use a logistic regression classifier. "
   ]
  },
  {
   "cell_type": "markdown",
   "metadata": {},
   "source": [
    "## Part 2: Training the Model"
   ]
  },
  {
   "cell_type": "markdown",
   "metadata": {},
   "source": [
    "Logistic Regression is a discriminative classifier. It tries to create a hyperplane (or decision boundary) that separates data into different classes. The core idea behind logistic regression is to project the input data onto a function that  separates it linearly. In the binary classification case, points on either side of the decision boundary would be assigned to different classes. As with Linear Regression, training a logistic regression classifier has three aspects: 1) defining a <b>hypothesis function</b>, 2) specifying a <b>cost function</b>, and computing the <b>optimal gradient</b> using minimization. "
   ]
  },
  {
   "cell_type": "markdown",
   "metadata": {},
   "source": [
    "### Hypothesis Function"
   ]
  },
  {
   "cell_type": "markdown",
   "metadata": {},
   "source": [
    "The hypothesis function for logistic regression is commonly the sigmoid function. The output of the linear projection of the training data\n",
    "\n",
    "$$h_{\\Theta}(X) = \\Theta^T X,$$\n",
    "\n",
    "is used as input to this sigmoid function\n",
    "\n",
    "$$g(z) = \\frac{1}{1 + e^{-z}},$$\n",
    "\n",
    "where \n",
    "\n",
    "$$z = \\Theta^T X.$$\n",
    "\n",
    "This yields the function\n",
    "\n",
    "$$g(\\Theta^T X) = \\frac{1}{1 + e^{-(\\Theta^T X)}},$$\n",
    "\n",
    "as the hypothesis function for logistic regression. Projecting the input data onto this sigmoid function ensures that all outputs are mapped onto a (0, 1) space, since $0 \\leq h_{\\Theta}(x) \\leq 1$, as shown in the Figure below:"
   ]
  },
  {
   "cell_type": "code",
   "execution_count": 4,
   "metadata": {
    "collapsed": false
   },
   "outputs": [
    {
     "data": {
      "image/png": "[encoded data removed]",
      "text/plain": [
       "<matplotlib.figure.Figure at 0x10dce3510>"
      ]
     },
     "metadata": {},
     "output_type": "display_data"
    }
   ],
   "source": [
    "z = np.arange(-7, 8, 1)\n",
    "sigFunc = np.true_divide(1, (1 + np.exp(-1 * z)))\n",
    "intercept = np.zeros(len(z))\n",
    "intercept.fill(0.5)\n",
    "\n",
    "plt.xlabel('z')\n",
    "plt.ylabel('g(z)')\n",
    "plt.plot(z, sigFunc, '--g')\n",
    "plt.plot(z, intercept, '--b')\n",
    "plt.plot(np.zeros(z.shape[0]), sigFunc, 'k')\n",
    "plt.xlim([-7,7])\n",
    "plt.show()"
   ]
  },
  {
   "cell_type": "markdown",
   "metadata": {},
   "source": [
    "Note that the edge values 0 and 1 materialize as $z \\rightarrow \\pm \\infty$. Also note that the line y-intercept ($y = 0.5$) is a natural separator for the input values $z$. To classify input data, the decision boundary is therefore commonly taken as $h_{\\theta} (x) = g(z) = 0.5$, where \n",
    "\n",
    "$$h_{\\theta} (x) = g(z) \\geq 0.5, \\theta^{T} x \\geq 0 \\rightarrow y = 1$$ \n",
    "$$h_{\\theta} (x) = g(z) \\lt 0.5, \\theta^{T} x \\lt 0 \\rightarrow y = 0.$$\n",
    "\n",
    "Generating such discrete binary labels from the continuous-valued sigmoid function is important for classification using Logistic Regression. It allows the flexibility to deal with multiclass classification by considering each output class a seperate binary classification problem. In numpy, the sigmoid function can be implemented as follows:"
   ]
  },
  {
   "cell_type": "code",
   "execution_count": 3,
   "metadata": {
    "collapsed": false
   },
   "outputs": [
    {
     "name": "stdout",
     "output_type": "stream",
     "text": [
      "[[ 0.5  0.5  0.5]]\n"
     ]
    }
   ],
   "source": [
    "def sigmoid_hypothesis(z):\n",
    "    return 1/(1 + np.exp(-z))\n",
    "    \n",
    "X = np.array([[0.3, 2.1, 1.1], [4, 5, 2], [6, 1, 9]])\n",
    "theta = np.zeros(X.shape[1]).reshape(X.shape[1],1)\n",
    "z = X.dot(theta)\n",
    "g = sigmoid_hypothesis(z)\n",
    "print(g.T)"
   ]
  },
  {
   "cell_type": "markdown",
   "metadata": {},
   "source": [
    "Given a hypothesis function, the next task is to define the cost function to estimate the error associated with each prediction. This is helpful because it enables finding the minimal error, and thus the parameters that best fit the data. "
   ]
  },
  {
   "cell_type": "markdown",
   "metadata": {},
   "source": [
    "### Cost Function"
   ]
  },
  {
   "cell_type": "markdown",
   "metadata": {},
   "source": [
    "The choice of the cost function for logistic regression should be such that, \n",
    "\n",
    "if $h_{\\theta}(x) = y$, $J(\\theta) = 0$, and \n",
    "\n",
    "if $h_{\\theta}(x) \\rightarrow 1, y = 0, J(\\theta) \\rightarrow \\infty$, and\n",
    "\n",
    "if $h_{\\theta}(x) \\rightarrow 0, y = 1, J(\\theta) \\rightarrow \\infty$\n",
    "\n",
    "Since $z = h_{\\theta}(x^{(i)})$, then an appropriate choice to satisfy these conditions is the function\n",
    "\n",
    "$$J(\\theta) = - \\frac{1}{m} \\sum_{i=1}^m  [y^{(i)} \\log(g(h_{\\theta}(x^{(i)}))) + (1 - y^{(i)}) \\log(1 - g(h_{\\theta}(x^{(i)})))].$$\n",
    "\n",
    "In numpy, this cost function can be implemented as follows: "
   ]
  },
  {
   "cell_type": "code",
   "execution_count": 4,
   "metadata": {
    "collapsed": false
   },
   "outputs": [
    {
     "name": "stdout",
     "output_type": "stream",
     "text": [
      "Number of training examples: 100\n",
      "Number of features: 2\n",
      "Initial Cost: 0.693\n"
     ]
    }
   ],
   "source": [
    "def compute_cost(theta, X, y):\n",
    "    m = X.shape[0]\n",
    "    z = X.dot(theta)\n",
    "    g = sigmoid_hypothesis(z)\n",
    "    return (-y.T.dot(np.log(g)) -\n",
    "            (1 - y).T.dot(np.log(1 - g))) / float(m)\n",
    "    \n",
    "X, y = load_data(\"ex2data1.txt\")\n",
    "x_zero = np.ones(len(X))\n",
    "X = np.column_stack([x_zero, X])\n",
    "theta = np.zeros(X.shape[1]).reshape(X.shape[1],1)\n",
    "\n",
    "J = compute_cost(theta, X, y)\n",
    "print(\"Initial Cost: %.3f\" % J)"
   ]
  },
  {
   "cell_type": "markdown",
   "metadata": {},
   "source": [
    "Note that to account for the bias, we add a column of ones to the input data. \n",
    "\n",
    "Given a way to compute the cost of each prediction, we must now try to minimize the overall error across all our predictions. This is typically done choosing from any of a number of solvers."
   ]
  },
  {
   "cell_type": "markdown",
   "metadata": {},
   "source": [
    "### Optimization/Minimization"
   ]
  },
  {
   "cell_type": "markdown",
   "metadata": {},
   "source": [
    "For logistic regression, gradient descent can be used as a solver for minimization by first computing the gradient (or partial derivative) of the cost function\n",
    "\n",
    "$$\\frac{\\delta}{\\delta \\theta_j} J(\\theta) = \\frac{1}{m} \\sum_{i=1}^m (g(h_{\\theta}(x^{(i)})) - y^{(i)}) x_j^{(i)},$$\n",
    "\n",
    "and then using it to update values of $\\theta$ as follows\n",
    "\n",
    "$$\\theta_j = \\theta_j - \\alpha \\frac{\\delta}{\\delta \\theta_j} J(\\theta).$$\n",
    "\n",
    "Here, alpha is the learning rate that controls the step size for gradient descent. Notice that this partial derivative is the same as the partial derivate of the cost function for linear regression. In python, this gradient can be computed as follows: \n"
   ]
  },
  {
   "cell_type": "code",
   "execution_count": 7,
   "metadata": {
    "collapsed": false
   },
   "outputs": [
    {
     "name": "stdout",
     "output_type": "stream",
     "text": [
      "Number of training examples: 100\n",
      "Number of features: 2\n",
      "Initial Gradient: [[ -0.1        -12.00921659 -11.26284221]]\n"
     ]
    }
   ],
   "source": [
    "def compute_gradient(theta, X, y):\n",
    "    z = X.dot(theta)\n",
    "    g = sigmoid_hypothesis(z)\n",
    "    loss = np.subtract(g, y)\n",
    "    return X.T.dot(loss)/float(X.shape[0])\n",
    "\n",
    "X, y = load_data(\"ex2data1.txt\")\n",
    "X = np.column_stack([np.ones(len(X)), X])\n",
    "y = y.reshape(X.shape[0], 1)\n",
    "\n",
    "print(\"Initial Gradient: %s\" % compute_gradient(theta, X, y).T)"
   ]
  },
  {
   "cell_type": "markdown",
   "metadata": {},
   "source": [
    "The optimal theta can then be obtained by iteratively updating the parameters using this gradient and gradient descent, as previously done for linear regression. \n",
    "\n",
    "Repeat until convergence: {\n",
    "\n",
    "$\\theta_j = \\theta_j - \\frac{\\alpha}{m} \\sum_{i=1}^m (g(h_{\\theta}(x^{(i)})) - y^{(i)}) x^{(i)}_j$\n",
    "\n",
    "}"
   ]
  },
  {
   "cell_type": "markdown",
   "metadata": {},
   "source": [
    "However, the data must first be normalized so that our features are on a [0-1] scale as previously done. The procedure for feature normalization can be implemented as follows: "
   ]
  },
  {
   "cell_type": "code",
   "execution_count": 8,
   "metadata": {
    "collapsed": false
   },
   "outputs": [
    {
     "name": "stdout",
     "output_type": "stream",
     "text": [
      "Number of training examples: 100\n",
      "Number of features: 2\n",
      "Before Normalization [ 34.62365962  78.02469282]\n",
      "After Normalization [-1.60224763  0.63834112]\n"
     ]
    }
   ],
   "source": [
    "def normalize_features(X):\n",
    "    mu = np.mean(X, axis=0)\n",
    "    std = np.std(X, axis=0)\n",
    "    X = (X - mu)/std\n",
    "    return X, mu, std\n",
    "\n",
    "X, y = load_data(\"ex2data1.txt\");\n",
    "y = y.reshape(X.shape[0], 1)\n",
    "\n",
    "X0_before = X[0]\n",
    "X, _, _ = normalize_features(X)\n",
    "X0_after = X[0]\n",
    "\n",
    "print(\"Before Normalization %s\" % X0_before)\n",
    "print(\"After Normalization %s\" % X0_after)\n"
   ]
  },
  {
   "cell_type": "markdown",
   "metadata": {},
   "source": [
    "Given a way to compute the gradient and to normalize the features, we can implement gradient descent using numpy as follows: "
   ]
  },
  {
   "cell_type": "code",
   "execution_count": 9,
   "metadata": {
    "collapsed": false
   },
   "outputs": [
    {
     "name": "stdout",
     "output_type": "stream",
     "text": [
      "Number of training examples: 100\n",
      "Number of features: 2\n",
      "Minimum gradient [[ 1.71844256  3.99277281  3.72512219]]\n",
      "Minimum cost [[ 0.2034977]]\n",
      "Probability of Admittance [[ 0.7762897]]\n"
     ]
    }
   ],
   "source": [
    "import sys\n",
    "\n",
    "\n",
    "def gradient_descent(theta, X, y, alpha=4.8, max_iter=400):\n",
    "    best_theta = theta\n",
    "    min_cost = sys.maxint\n",
    "    J_hist = np.zeros(max_iter)\n",
    "    grad_hist = list()\n",
    "    \n",
    "    for i in np.arange(max_iter):\n",
    "        grad = compute_gradient(theta, X, y)\n",
    "        grad_hist.append(grad)\n",
    "        theta = theta - (alpha * grad)\n",
    "        \n",
    "        J = compute_cost(theta, X, y)\n",
    "        J_hist[i] = J\n",
    "        if J < min_cost:\n",
    "            min_cost = J\n",
    "            best_theta = theta\n",
    "    return best_theta, min_cost, J_hist, grad_hist\n",
    "\n",
    "X, y = load_data(\"ex2data1.txt\");\n",
    "y = y.reshape(X.shape[0], 1)\n",
    "\n",
    "X_test = np.array([1, \n",
    "            np.true_divide(np.subtract(45, np.mean(X[:,0])), np.std(X[:,0])),\n",
    "            np.true_divide(np.subtract(85,np.mean(X[:,1])), np.std(X[:,1]))])\n",
    "\n",
    "X, _, _ = normalize_features(X)\n",
    "X = np.column_stack([np.ones(len(X)), X])\n",
    "theta = np.zeros((X.shape[1], 1))\n",
    "\n",
    "theta, min_cost, J_hist, grad_hist = gradient_descent(theta, X, y)\n",
    "print(\"Minimum gradient %s\" % theta.T)\n",
    "print(\"Minimum cost %s\" % min_cost)\n",
    "\n",
    "X_test = X_test.reshape(1, X.shape[1])\n",
    "z = X_test.dot(theta)\n",
    "print(\"Probability of Admittance %s\" % sigmoid_hypothesis(z))"
   ]
  },
  {
   "cell_type": "markdown",
   "metadata": {},
   "source": [
    "Note that the choice of the learning rate $\\alpha=4.8$ is not arbitrary. This learning rate can be found by plotting the cost function with different values for $\\alpha$ and finally setting it to one that gives a cost difference below some threshold ($tol$). For convenience we use a step size of 0.1 and a tolerance of 1e-12 for finding the optimal learning rate. However, a good exercise is to try different values for tolerance and step size observe how these values affect your cost. The difficulty of finding the optimal learning rate using gradient descent should become apparent very quickly. "
   ]
  },
  {
   "cell_type": "code",
   "execution_count": 10,
   "metadata": {
    "collapsed": false
   },
   "outputs": [
    {
     "name": "stdout",
     "output_type": "stream",
     "text": [
      "Optimal Learning Rate: 1.1\n",
      "Minimum cost [[ 0.2034977]]\n"
     ]
    },
    {
     "data": {
      "image/png": "[encoded data removed]",
      "text/plain": [
       "<matplotlib.figure.Figure at 0x10f30b350>"
      ]
     },
     "metadata": {},
     "output_type": "display_data"
    }
   ],
   "source": [
    "alphas = np.arange(0, 10, 0.1)\n",
    "alphas_hist = np.zeros((alphas.shape[0], 1))\n",
    "\n",
    "tol = 1e-12\n",
    "learning_rate = sys.maxint\n",
    "found = False\n",
    "least_cost = sys.maxint\n",
    "theta = np.zeros((X.shape[1], 1))\n",
    "for i, alpha_i in enumerate(alphas):\n",
    "    theta, cost, _, _ = gradient_descent(theta, X, y, alpha_i)\n",
    "    if i==0:\n",
    "        t = cost    \n",
    "    if i > 0 and t - cost < tol and not found:\n",
    "        learning_rate = alpha_i\n",
    "        found = True\n",
    "        least_cost = cost\n",
    "    alphas_hist[i] = cost\n",
    "    t = cost\n",
    "\n",
    "print(\"Optimal Learning Rate: %s\" % learning_rate)\n",
    "print(\"Minimum cost %s\" % least_cost)\n",
    "\n",
    "plt.xlabel('Learning Rate')\n",
    "plt.ylabel('Cost J')\n",
    "plt.plot(alphas, alphas_hist, '-b')  \n",
    "plt.show()"
   ]
  },
  {
   "cell_type": "markdown",
   "metadata": {},
   "source": [
    "### Advanced Optimization"
   ]
  },
  {
   "cell_type": "markdown",
   "metadata": {},
   "source": [
    "Gradient descent has two main disadvantages. The first is that we must specify the learning rate ($\\alpha$) <i>a-priori</i>. Estimating the learning rate is not always simple. The second is that gradient descent is known to be very slow for large datasets. Alternative optimization algorithms are generally faster than gradient descent, and often do not require specifying the learning rate. Some of these algorithms include: \n",
    "* Conjugate Gradient (CG)\n",
    "* Newton CG\n",
    "* BFGS\n",
    "* L-BFGS\n",
    "* fminunc\n",
    "\n",
    "I leave a thorough examination of these algorithms as an exercise to be taken based on your individual interest. These algorithms are quite complex and outside the scope of an introductory discussion on logistic regression. For our purposes, we can utilize the fminunc optimizer to find the mimimun thetas, using <a href=\"http://docs.scipy.org/doc/scipy/reference/\">scipy</a>; another python scientific package. "
   ]
  },
  {
   "cell_type": "code",
   "execution_count": 11,
   "metadata": {
    "collapsed": false
   },
   "outputs": [
    {
     "name": "stdout",
     "output_type": "stream",
     "text": [
      "Number of training examples: 100\n",
      "Number of features: 2\n",
      "Optimization terminated successfully.\n",
      "         Current function value: 0.203498\n",
      "         Iterations: 141\n",
      "         Function evaluations: 249\n",
      "Probability of Admittance [ 0.77629094]\n",
      "Minimum gradient [ 1.71846369  3.99279513  3.72513185]\n"
     ]
    }
   ],
   "source": [
    "import scipy.optimize as op\n",
    "\n",
    "X, y = load_data(\"ex2data1.txt\");\n",
    "\n",
    "X_test = np.array([1, \n",
    "            np.true_divide(np.subtract(45, np.mean(X[:,0])), np.std(X[:,0])),\n",
    "            np.true_divide(np.subtract(85,np.mean(X[:,1])), np.std(X[:,1]))])\n",
    "\n",
    "X, _, _ = normalize_features(X)\n",
    "X = np.column_stack([np.ones(len(X)), X])\n",
    "\n",
    "options = {'full_output': True, 'maxiter': 400}\n",
    "theta = np.zeros(X.shape[1]) \n",
    "\n",
    "theta, cost, _, _, _ = \\\n",
    "        op.fmin(lambda t: compute_cost(t, X, y), theta, **options)\n",
    "\n",
    "X_test = X_test.reshape(1, X.shape[1])\n",
    "z = X_test.dot(theta)\n",
    "print(\"Probability of Admittance %s\" % sigmoid_hypothesis(z))\n",
    "print(\"Minimum gradient %s\" % theta)"
   ]
  },
  {
   "cell_type": "markdown",
   "metadata": {},
   "source": [
    "## Part 3: Prediction"
   ]
  },
  {
   "cell_type": "markdown",
   "metadata": {},
   "source": [
    "Now that we are able to learn the parameters, we can predict whether students will be admitted into the university, first for a single student, as previously shown. However, to more accurately evaluate the model, we can compute the overall precision across several examples. We can apply the learned weights on the training data itself and assess how many of the training examples we are able to correctly predict. To do this, we rely on the idea that any point whose predicted value is above 0.5 (the y-intercept of the sigmoid function) is positive, while others are negative. "
   ]
  },
  {
   "cell_type": "code",
   "execution_count": 12,
   "metadata": {
    "collapsed": false
   },
   "outputs": [
    {
     "name": "stdout",
     "output_type": "stream",
     "text": [
      "Number of training examples: 100\n",
      "Number of features: 2\n",
      "Precision: 0.90\n"
     ]
    }
   ],
   "source": [
    "from sklearn.metrics import precision_score\n",
    "\n",
    "\n",
    "def predict(theta, X):\n",
    "    y_pred = np.zeros((X.shape[0], 1))\n",
    "    h = X.dot(theta)\n",
    "    g = sigmoid_hypothesis(h)\n",
    "    x_pos = np.where(g >= 0.5)\n",
    "    y_pred[x_pos] = 1\n",
    "    return y_pred\n",
    "\n",
    "X, y = load_data(\"ex2data1.txt\")\n",
    "X, _, _ = normalize_features(X)\n",
    "X = np.column_stack([np.ones(len(X)), X])\n",
    "y_pred = predict(theta, X)\n",
    "\n",
    "print(\"Precision: %.2f\" % precision_score(y, y_pred))"
   ]
  },
  {
   "cell_type": "markdown",
   "metadata": {},
   "source": [
    "The learned weights also enable us to plot the decision boundary that separates positive and negative examples. "
   ]
  },
  {
   "cell_type": "code",
   "execution_count": 13,
   "metadata": {
    "collapsed": false
   },
   "outputs": [
    {
     "name": "stdout",
     "output_type": "stream",
     "text": [
      "Number of training examples: 100\n",
      "Number of features: 2\n",
      "[-3.83802631  3.76561835]\n",
      "[ 3.65248524 -4.49750693]\n"
     ]
    },
    {
     "data": {
      "image/png": "[encoded data removed]",
      "text/plain": [
       "<matplotlib.figure.Figure at 0x1104ad910>"
      ]
     },
     "metadata": {},
     "output_type": "display_data"
    }
   ],
   "source": [
    "plt.title('Scatter plot of training data') \n",
    "plt.xlabel('Exam 1 Score')\n",
    "plt.ylabel('Exam 2 score')\n",
    "\n",
    "X, y = load_data(\"ex2data1.txt\");\n",
    "X, mus, stdevs = normalize_features(X)\n",
    "\n",
    "x_pos = np.where(y == 1)\n",
    "x_neg = np.where(y == 0)\n",
    "\n",
    "thetaUn = theta\n",
    "plot_x = np.array([min(X[:,0])-2,  max(X[:,0])+2])\n",
    "plot_y = (-1/theta[2]) * ((theta[1] * plot_x) + theta[0])\n",
    "\n",
    "print(plot_x)\n",
    "print(plot_y)\n",
    "\n",
    "adm = plt.scatter(X[x_pos][:,0], X[x_pos][:,1], marker='+', color='k')\n",
    "not_adm = plt.scatter(X[x_neg][:,0], X[x_neg][:,1], marker='o', color='y')\n",
    "plt.legend((adm, not_adm), ('Admitted', 'Not Admitted'), scatterpoints=1, loc=\"upper right\")\n",
    "plt.plot(plot_x, plot_y, '-b')\n",
    "plt.show()\n"
   ]
  },
  {
   "cell_type": "markdown",
   "metadata": {},
   "source": [
    "Note that this plot uses the normalized values for theta and the input data. We leave it as an exercise to recover the original scale of X by denormalizing the values of theta. "
   ]
  },
  {
   "cell_type": "markdown",
   "metadata": {},
   "source": [
    "## Part 4: Putting it all together"
   ]
  },
  {
   "cell_type": "code",
   "execution_count": 14,
   "metadata": {
    "collapsed": false
   },
   "outputs": [
    {
     "name": "stdout",
     "output_type": "stream",
     "text": [
      "Number of training examples: 100\n",
      "Number of features: 2\n"
     ]
    },
    {
     "data": {
      "image/png": "[encoded data removed]",
      "text/plain": [
       "<matplotlib.figure.Figure at 0x1104a1b10>"
      ]
     },
     "metadata": {},
     "output_type": "display_data"
    },
    {
     "name": "stdout",
     "output_type": "stream",
     "text": [
      "Initial Cost: 0.693\n",
      "Initial Gradient: [[-0.1        -0.28122914 -0.25098615]]\n",
      "Computing the learning rate...\n",
      "Best alpha: 1.1\n",
      "Minimum gradient [[ 1.67221481  3.89417566  3.62971943]]\n",
      "Minimum cost [[ 0.20355974]]\n",
      "Probability of Admittance [ 0.76962403]\n",
      "Precision: 0.90\n",
      "\n"
     ]
    },
    {
     "data": {
      "image/png": "[encoded data removed]",
      "text/plain": [
       "<matplotlib.figure.Figure at 0x1105c6c90>"
      ]
     },
     "metadata": {},
     "output_type": "display_data"
    },
    {
     "name": "stdout",
     "output_type": "stream",
     "text": [
      "Initial Cost: 0.693\n",
      "Initial Gradient: [[-0.1        -0.28122914 -0.25098615]]\n",
      "Optimization terminated successfully.\n",
      "         Current function value: 0.203498\n",
      "         Iterations: 141\n",
      "         Function evaluations: 249\n",
      "\n",
      "Minimum gradient [ 1.71846369  3.99279513  3.72513185]\n",
      "Minimum cost 0.203497701599\n",
      "Probability of Admittance 0.776290944243\n"
     ]
    }
   ],
   "source": [
    "import sys\n",
    "import numpy as np\n",
    "import scipy.optimize as op\n",
    "import matplotlib.pyplot as plt\n",
    "from sklearn.metrics import precision_score\n",
    "\n",
    "\n",
    "class MyLogisticRegression(object):\n",
    "    def sigmoid_hypothesis(self, z):\n",
    "        \"\"\"The decision function used for prediction\n",
    "\n",
    "        Parameters\n",
    "        ----------\n",
    "        z : numpy array-like matrix\n",
    "            Linear regression hypothesis applied to training examples\n",
    "\n",
    "            h(X) = theta.T.dot(X)\n",
    "\n",
    "        Returns\n",
    "        -------\n",
    "        float\n",
    "            Predicted value\n",
    "        \"\"\"\n",
    "        return 1 / (1 + np.exp(-z))\n",
    "\n",
    "    def compute_cost(self, theta, X, y):\n",
    "        \"\"\"Given a set of training examples, predictions, and parameters\n",
    "        estimate the cost using the sigmoid hypothesis function\n",
    "\n",
    "        Parameters\n",
    "        ----------\n",
    "        theta : numpy array-like matrix\n",
    "            Parameters of the model\n",
    "\n",
    "        X : numpy array-like matrix\n",
    "            Training examples\n",
    "\n",
    "        y : numpy array\n",
    "            Labels vector\n",
    "\n",
    "        Returns\n",
    "        -------\n",
    "        float\n",
    "            Cost of the predictions under given parameters\n",
    "        \"\"\"\n",
    "        m = X.shape[0]\n",
    "        g = self.sigmoid_hypothesis(X.dot(theta))\n",
    "        return (-y.T.dot(np.log(g)) -\n",
    "                (1 - y).T.dot(np.log(1 - g))) / float(m)\n",
    "\n",
    "    def compute_gradient(self, theta, X, y):\n",
    "        \"\"\"Compute the gradient give a set of parameters\n",
    "\n",
    "        Parameters\n",
    "        ----------\n",
    "        theta : numpy array-like matrix\n",
    "            Parameters to be learned by the model\n",
    "\n",
    "        X : numpy array-like matrix\n",
    "            Training examples\n",
    "\n",
    "        y : numpy array\n",
    "            Labels vector\n",
    "\n",
    "        Returns\n",
    "        -------\n",
    "        float\n",
    "            gradient under some set of parameters\n",
    "        \"\"\"\n",
    "        g = self.sigmoid_hypothesis(X.dot(theta))\n",
    "        loss = np.subtract(g, y)\n",
    "        return X.T.dot(loss) / float(X.shape[0])\n",
    "\n",
    "    def gradient_descent(self, theta, X, y, alpha=4.8, max_iter=400):\n",
    "        \"\"\"Determines the optimal parameters for the model using gradient descent\n",
    "\n",
    "        Parameters\n",
    "        ----------\n",
    "        theta : numpy array-like matrix\n",
    "            Parameters to be learned by the model\n",
    "\n",
    "        X : numpy array-like matrix\n",
    "            Training examples\n",
    "\n",
    "        y : numpy array\n",
    "            Labels vector\n",
    "\n",
    "        alpha : float\n",
    "            The learning rate\n",
    "\n",
    "        max_iter : int\n",
    "            Max number of iterations for training\n",
    "\n",
    "        Returns\n",
    "        -------\n",
    "        tuple\n",
    "            (Learned parameters, minimal cost, cost history, gradient history)\n",
    "        \"\"\"\n",
    "        best_theta = theta\n",
    "        min_cost = sys.maxint\n",
    "        J_hist = np.zeros(max_iter)\n",
    "        grad_hist = list()\n",
    "\n",
    "        for i in np.arange(max_iter):\n",
    "            grad = self.compute_gradient(theta, X, y)\n",
    "            grad_hist.append(grad)\n",
    "            theta -= (alpha * grad)\n",
    "\n",
    "            J = self.compute_cost(theta, X, y)\n",
    "            J_hist[i] = J\n",
    "            if J < min_cost:\n",
    "                min_cost = J\n",
    "                best_theta = theta\n",
    "        return best_theta, min_cost, J_hist, grad_hist\n",
    "\n",
    "    def fminunc_optimizer(self, theta, X, y):\n",
    "        \"\"\"Determines the optimal parameters for the model using an advanced solver\n",
    "\n",
    "        Parameters\n",
    "        ----------\n",
    "        theta : numpy array-like matrix\n",
    "            Parameters to be learned by the model\n",
    "\n",
    "        X : numpy array-like matrix\n",
    "            Training examples\n",
    "\n",
    "        y : numpy array\n",
    "            Labels vector\n",
    "\n",
    "        Returns\n",
    "        -------\n",
    "        tuple\n",
    "            (Learned parameters, minimal cost, _, _)\n",
    "        \"\"\"\n",
    "        options = {'full_output': True, 'maxiter': 400}\n",
    "        theta, cost, _, _, _ = \\\n",
    "            op.fmin(lambda t: self.compute_cost(t, X, y), theta, **options)\n",
    "\n",
    "        return theta, cost, _, _\n",
    "\n",
    "    def find_learning_rate(self, theta, X, y, tol=1e-12, step=0.1):\n",
    "        \"\"\"Find the optimal learning to train the model\n",
    "\n",
    "        theta : numpy array-like matrix\n",
    "            Parameters to be learned by the model\n",
    "\n",
    "        X : numpy array-like matrix\n",
    "            Training examples\n",
    "\n",
    "        y : numpy array\n",
    "            Labels vector\n",
    "\n",
    "        tol : float\n",
    "            Minimum difference in cost between successive iterations\n",
    "\n",
    "        step : float\n",
    "            The amount by which the learning rate will be decremented\n",
    "\n",
    "        Returns\n",
    "        -------\n",
    "        float\n",
    "            The optimal learning rate\n",
    "        \"\"\"\n",
    "        alphas = np.arange(0, 10, step)\n",
    "        alphas_hist = np.zeros((alphas.shape[0], 1))\n",
    "\n",
    "        learning_rate = sys.maxint\n",
    "        theta = np.zeros((X.shape[1], 1))\n",
    "        found = False\n",
    "\n",
    "        for i, alpha_i in enumerate(alphas):\n",
    "            theta, cost, _, _ = self.gradient_descent(theta, X, y, alpha_i)\n",
    "            if i == 0:\n",
    "                t = cost\n",
    "            if i > 0 and t - cost < tol and not found:\n",
    "                learning_rate = alpha_i\n",
    "                found = True\n",
    "            alphas_hist[i] = cost\n",
    "            t = cost\n",
    "        return learning_rate\n",
    "\n",
    "    def normalize_features(self, X):\n",
    "        \"\"\"This function normalizes each feature in the\n",
    "        dataset on a [0-1] scale. The normalization formula\n",
    "        is as follows:\n",
    "        >>> x_j = (xj - muj) / sj\n",
    "        where mu_j is the mean of a given feature\n",
    "        and s_j is the standard deviation of the feature\n",
    "\n",
    "        Parameters\n",
    "        ----------\n",
    "        X : numpy array-like matrix\n",
    "            Training examples\n",
    "        Returns\n",
    "        -------\n",
    "        X_n : numpy array-like matrix\n",
    "            Normalized training examples\n",
    "        \"\"\"\n",
    "        mu = np.mean(X, axis=0)\n",
    "        std = np.std(X, axis=0)\n",
    "        X = (X - mu) / std\n",
    "        return X, mu, std\n",
    "\n",
    "    def fit(self, X, y, solver='bgd'):\n",
    "        \"\"\"Determines the optimal parameters for the model using a solver\n",
    "\n",
    "        Parameters\n",
    "        ----------\n",
    "        X : numpy array-like matrix\n",
    "            Training examples\n",
    "\n",
    "        y : numpy array\n",
    "            Labels vector\n",
    "\n",
    "        solver : str\n",
    "            Specified the type of solver to use.\n",
    "            Choose from 1) batch gradient descent and 2) fminunc\n",
    "\n",
    "        Returns\n",
    "        -------\n",
    "        numpy array-like matrix\n",
    "            Learned parameters\n",
    "        \"\"\"\n",
    "        X, _, _ = self.normalize_features(X)\n",
    "        X = np.column_stack([np.ones(len(X)), X])\n",
    "        y = y.reshape(X.shape[0], 1)\n",
    "\n",
    "        theta = np.zeros(X.shape[1]).reshape(X.shape[1], 1)\n",
    "        J = self.compute_cost(theta, X, y)\n",
    "        print(\"Initial Cost: %.3f\" % J)\n",
    "\n",
    "        grad = self.compute_gradient(theta, X, y)\n",
    "        print(\"Initial Gradient: %s\" % grad.T)\n",
    "\n",
    "        if solver == 'bgd':\n",
    "            print \"Computing the learning rate...\"\n",
    "            alpha = self.find_learning_rate(theta, X, y)\n",
    "            print \"Best alpha: %.1f\" % alpha\n",
    "            return self.gradient_descent(theta, X, y, alpha)\n",
    "        elif solver == 'fminunc':\n",
    "            return self.fminunc_optimizer(theta, X, y);\n",
    "\n",
    "    def predict(self, theta, X):\n",
    "        \"\"\"Predicts discrete boolean values for test\n",
    "        examples using the learned weights\n",
    "\n",
    "        Parameters\n",
    "        ----------\n",
    "        theta : numpy array\n",
    "            Learned parameters\n",
    "\n",
    "        X_test : numpy array-like matrix\n",
    "            Test set examples\n",
    "\n",
    "        Returns\n",
    "        -------\n",
    "        numpy array\n",
    "            Predictions for test set examples\n",
    "        \"\"\"\n",
    "        X, _, _ = self.normalize_features(X)\n",
    "        X = np.column_stack([np.ones(len(X)), X])\n",
    "\n",
    "        y_pred = np.zeros((X.shape[0], 1))\n",
    "        h = X.dot(theta)\n",
    "        g = self.sigmoid_hypothesis(h)\n",
    "        x_pos = np.where(g >= 0.5)\n",
    "        y_pred[x_pos] = 1\n",
    "        return y_pred\n",
    "\n",
    "\n",
    "def load_data(input_file, delim=','):\n",
    "    \"\"\"Load dataset from file. Expects examples\n",
    "    in the rows, features in the columns and\n",
    "    truth labels in the last column.\n",
    "\n",
    "    Parameters\n",
    "    ----------\n",
    "    input_file : str\n",
    "        Path to input data file\n",
    "\n",
    "    delim : str\n",
    "        Type of delimiter for each field\n",
    "\n",
    "    Returns\n",
    "    -------\n",
    "    X : numpy-like matrix\n",
    "        Feature Matrix from input data\n",
    "\n",
    "    y : numpy array\n",
    "        Labels vector\n",
    "    \"\"\"\n",
    "\n",
    "    data = np.loadtxt(input_file, delimiter=delim)\n",
    "    n_features = data.shape[1] - 1\n",
    "    if n_features == 1:\n",
    "        X = data[:, 0]\n",
    "    else:\n",
    "        X = data[:, np.arange(n_features)]\n",
    "    y = data[:, n_features]\n",
    "    assert len(X) == len(y)\n",
    "    return X, y\n",
    "\n",
    "\n",
    "def plot_data(X, y):\n",
    "    plt.title('Scatter plot of training data')\n",
    "    plt.xlabel('Exam 1 Score')\n",
    "    plt.ylabel('Exam 2 score')\n",
    "\n",
    "    x_pos = np.where(y == 1)\n",
    "    x_neg = np.where(y == 0)\n",
    "\n",
    "    adm = plt.scatter(X[x_pos][:, 0], X[x_pos][:, 1], marker='+', color='k')\n",
    "    not_adm = plt.scatter(X[x_neg][:, 0], X[x_neg][:, 1], marker='o', color='y')\n",
    "    plt.legend((adm, not_adm), ('Admitted', 'Not Admitted'), scatterpoints=1, loc=\"upper right\")\n",
    "    plt.xlim(30, 100)\n",
    "    plt.ylim(30, 100)\n",
    "    plt.show()\n",
    "\n",
    "\n",
    "def plot_decision_boundary(theta, X, y, clf):\n",
    "    plt.title('Scatter plot of training data')\n",
    "    plt.xlabel('Exam 1 Score')\n",
    "    plt.ylabel('Exam 2 score')\n",
    "\n",
    "    X, _, _ = clf.normalize_features(X)\n",
    "    x_pos = np.where(y == 1)\n",
    "    x_neg = np.where(y == 0)\n",
    "\n",
    "    plot_x = np.array([min(X[:, 0]) - 2, max(X[:, 0]) + 2])\n",
    "    plot_y = (-1 / theta[2]) * ((theta[1] * plot_x) + theta[0])\n",
    "\n",
    "    adm = plt.scatter(X[x_pos][:, 0], X[x_pos][:, 1], marker='+', color='k')\n",
    "    not_adm = plt.scatter(X[x_neg][:, 0], X[x_neg][:, 1], marker='o', color='y')\n",
    "    plt.legend((adm, not_adm), ('Admitted', 'Not Admitted'), scatterpoints=1, loc=\"upper right\")\n",
    "    plt.plot(plot_x, plot_y, '-b')\n",
    "    plt.show()\n",
    "\n",
    "\n",
    "if __name__ == '__main__':\n",
    "    clf = MyLogisticRegression()\n",
    "\n",
    "    X, y = load_data(\"ex2data1.txt\")\n",
    "\n",
    "    print(\"Number of training examples: %i\" % X.shape[0])\n",
    "    print(\"Number of features: %s\" % X.shape[1])\n",
    "\n",
    "    plot_data(X, y)\n",
    "\n",
    "    # =============== gradient descent =======================\n",
    "    theta, min_cost, J_hist, grad_hist = clf.fit(X, y)\n",
    "    print(\"Minimum gradient %s\" % theta.T)\n",
    "    print(\"Minimum cost %s\" % min_cost)\n",
    "\n",
    "    X_test = np.array([1,\n",
    "                       np.true_divide(np.subtract(45, np.mean(X[:, 0])), np.std(X[:, 0])),\n",
    "                       np.true_divide(np.subtract(85, np.mean(X[:, 1])), np.std(X[:, 1]))])\n",
    "\n",
    "    z = X_test.dot(theta)\n",
    "    print(\"Probability of Admittance %s\" % clf.sigmoid_hypothesis(z))\n",
    "\n",
    "    y_pred = clf.predict(theta, X)\n",
    "    print(\"Precision: %.2f\\n\" % precision_score(y, y_pred))\n",
    "    plot_decision_boundary(theta, X, y, clf)\n",
    "\n",
    "    # =============== advanced optimization =======================\n",
    "    theta, min_cost, J_hist, grad_hist = clf.fit(X, y, 'fminunc')\n",
    "    print(\"\\nMinimum gradient %s\" % theta.T)\n",
    "    print(\"Minimum cost %s\" % min_cost)\n",
    "    z = X_test.dot(theta)\n",
    "    print(\"Probability of Admittance %s\" % clf.sigmoid_hypothesis(z))\n"
   ]
  },
  {
   "cell_type": "markdown",
   "metadata": {},
   "source": [
    "The fully implemented code is available <a href=\"logisticregression.py\">here</a>. In the next section we will look at Logistic Regression with Regularization. "
   ]
  }
 ],
 "metadata": {
  "kernelspec": {
   "display_name": "Python 3",
   "language": "python",
   "name": "python3"
  },
  "language_info": {
   "codemirror_mode": {
    "name": "ipython",
    "version": 3
   },
   "file_extension": ".py",
   "mimetype": "text/x-python",
   "name": "python",
   "nbconvert_exporter": "python",
   "pygments_lexer": "ipython3",
   "version": "3.4.3"
  }
 },
 "nbformat": 4,
 "nbformat_minor": 0
}
