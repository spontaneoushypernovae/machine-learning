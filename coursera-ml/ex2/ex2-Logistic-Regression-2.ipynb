{
 "cells": [
  {
   "cell_type": "markdown",
   "metadata": {},
   "source": [
    "## Overview"
   ]
  },
  {
   "cell_type": "markdown",
   "metadata": {},
   "source": [
    "In this exercise, I will review core concepts and implement Logistic Regression with regularization (in python), using the Stanford Machine Learning Online course; <i>Programming Exercise 2: Logistic Regression (Week 3)</i> to illustrate."
   ]
  },
  {
   "cell_type": "markdown",
   "metadata": {},
   "source": [
    "## Part 1: Dataset"
   ]
  },
  {
   "cell_type": "markdown",
   "metadata": {},
   "source": [
    "The dataset for this part of the exercise consists of 118 examples, used to predict whether microchips from a fabrication plant pass quality assurance (QA) tests. The first two columns of each training example contain the scores each chip obtained on two QA tests, while the last column indicates whether or not the chip passed the test. We can load the dataset using numpy as follows: "
   ]
  },
  {
   "cell_type": "code",
   "execution_count": 1,
   "metadata": {
    "collapsed": false
   },
   "outputs": [
    {
     "name": "stdout",
     "output_type": "stream",
     "text": [
      "Number of training examples: 118\n",
      "Number of features: 2\n",
      "(118, 2)\n"
     ]
    }
   ],
   "source": [
    "import numpy as np\n",
    "from numpy import loadtxt\n",
    "\n",
    "def load_data(input_file, delim=','):\n",
    "    data = np.loadtxt(input_file, delimiter=delim)\n",
    "    n_features = data.shape[1]-1 \n",
    "    if n_features == 1: \n",
    "        X = data[:,0]\n",
    "    else: \n",
    "        X = data[:,np.arange(n_features)]\n",
    "    y = data[:,n_features]\n",
    "    assert len(X) == len(y)\n",
    "    print(\"Number of training examples: %i\" % X.shape[0])\n",
    "    print(\"Number of features: %i\" % X.shape[1])\n",
    "    \n",
    "    return X, y\n",
    "\n",
    "X, y = load_data(\"ex2data2.txt\")\n",
    "print(X.shape)"
   ]
  },
  {
   "cell_type": "markdown",
   "metadata": {},
   "source": [
    "We can visualize the dataset using matplotlib. "
   ]
  },
  {
   "cell_type": "code",
   "execution_count": 2,
   "metadata": {
    "collapsed": false
   },
   "outputs": [
    {
     "data": {
      "image/png": "[encoded data removed]",
      "text/plain": [
       "<matplotlib.figure.Figure at 0x106e75c50>"
      ]
     },
     "metadata": {},
     "output_type": "display_data"
    }
   ],
   "source": [
    "%matplotlib inline\n",
    "import matplotlib.pyplot as plt\n",
    "\n",
    "plt.title('Scatter plot of training data') \n",
    "plt.xlabel('Microchip Test 1')\n",
    "plt.ylabel('Microchip Test 2')\n",
    "\n",
    "x_pos = np.where(y == 1)\n",
    "x_neg = np.where(y == 0)\n",
    "\n",
    "adm = plt.scatter(X[x_pos][:,0], X[x_pos][:,1], marker='+', color='k')\n",
    "not_adm = plt.scatter(X[x_neg][:,0], X[x_neg][:,1], marker='o', color='y')\n",
    "plt.legend((adm, not_adm), ('y = 1', 'y = 0'), \n",
    "           scatterpoints=1, loc=\"upper right\")\n",
    "plt.show()"
   ]
  },
  {
   "cell_type": "markdown",
   "metadata": {},
   "source": [
    "## Part 2: Training the Model"
   ]
  },
  {
   "cell_type": "markdown",
   "metadata": {},
   "source": [
    "The figure shows that the data is not linearly separable, therefore a typical application of logistic regression might not create the best decision boundary to classify the data. Instead, we must adapt classical logistic regression to be able to create non-linear decision boundaries. One way to do this is to use more complex features. "
   ]
  },
  {
   "cell_type": "markdown",
   "metadata": {},
   "source": [
    "### Feature Mapping"
   ]
  },
  {
   "cell_type": "markdown",
   "metadata": {},
   "source": [
    "One way to create more complex features is to make new features out of the existing features (i.e., polynomial features). For example, let's re-examine the hypothesis function from linear regression. \n",
    "\n",
    "$$h_{\\theta}(x) = \\theta_0 + \\theta_1 x_1 + \\theta_2 x_2$$\n",
    "\n",
    "For instance, we could add polynomial features and use the following more complex hypothesis\n",
    "\n",
    "$$h_{\\theta}(x) = \\theta_0 + \\theta_1 x_1 + \\theta_2 x_2 + \\theta_3 x_1 x_2 + \\theta_4 x_1^2 + \\theta_5 x_2^2 + \\ldots, $$\n",
    "\n",
    "which is no longer linear, but has multiple dimensions. In python we can perform this feature mapping as follows:"
   ]
  },
  {
   "cell_type": "code",
   "execution_count": 6,
   "metadata": {
    "collapsed": false
   },
   "outputs": [
    {
     "name": "stdout",
     "output_type": "stream",
     "text": [
      "Number of training examples: 118\n",
      "Number of features: 2\n",
      "(118, 28)\n"
     ]
    }
   ],
   "source": [
    "def mapFeatures(X1, X2, degree):\n",
    "    X_map = np.matrix(np.ones(X1.shape[0])).T\n",
    "    for i in range(1,degree+1):\n",
    "        for j in range(i+1):\n",
    "            poly_features = np.multiply(np.power(X1, i-j), \n",
    "                                        np.power(X2, j))\n",
    "            X_map = np.c_[X_map, poly_features]\n",
    "    return X_map\n",
    "\n",
    "X, y = load_data(\"ex2data2.txt\")\n",
    "X = mapFeatures(X[:,0], X[:,1], degree=6)\n",
    "print(X.shape)"
   ]
  },
  {
   "cell_type": "markdown",
   "metadata": {},
   "source": [
    "Adding polynomial features will likely enable the classifier to fit non-linear decision boundaries. However, the disavantage is that the classifier may become susceptible to overtraining, showing <b>high variance</b> when presented with unseen data. Essentially, the classifier may not generalize particularly well, but instead tend to fit the training data very well, performing poorly on unseen test data. To combat this <b>overfitting</b> problem, we can apply <b>regularization</b>. "
   ]
  },
  {
   "cell_type": "markdown",
   "metadata": {},
   "source": [
    "### Regularization"
   ]
  },
  {
   "cell_type": "markdown",
   "metadata": {},
   "source": [
    "In machine learning, regularization is a technique for discounting certain features that are likely to unduly influence  training and lead to high variance models. To perform regularization, we inflate cost of each feature to be discounted, which in turn reduces the parameter $\\theta$ for the given feature, making it small, but not eliminating the feature algother.  For example, we could discount the cost of features 3, 4, and 5, by including a multiplier of 1000 to feature 3 ($x_1 x_2$), feature 4 ($x_1^2$), and feature 5 ($x_2^2$) as follows\n",
    "\n",
    "$$J(\\theta) = \\frac{1}{m} \\sum_{i=1}^m  [- y^{(i)} \\log(g(h_{\\theta}(x^{(i)}))) - (1 - y^{(i)}) \\log(1 - g(h_{\\theta}(x^{(i)})))] + 1000 \\cdot \\theta_3 + 1000 \\cdot \\theta_4  + 1000 \\cdot \\theta_5.$$\n"
   ]
  },
  {
   "cell_type": "markdown",
   "metadata": {},
   "source": [
    "### Cost Function"
   ]
  },
  {
   "cell_type": "markdown",
   "metadata": {},
   "source": [
    "More generally, we can regularize all parameters of the logistic regression model (except the bias) by using a standard multiplier, as follows \n",
    "\n",
    "$$J(\\theta) = \\frac{1}{m} \\sum_{i=1}^m  [- y^{(i)} \\log(g(h_{\\theta}(x^{(i)}))) - (1 - y^{(i)}) \\log(1 - g(h_{\\theta}(x^{(i)})))] + \\frac{\\lambda}{2m} \\sum_{j=1}^n \\theta_j^2.$$\n",
    "\n",
    "\n",
    "The multiplier $\\lambda$ is called the <b>regularization parameter</b> and $j$ is the index of the $j^{th}$ feature. In python, we can implement this regularized cost function as follows:"
   ]
  },
  {
   "cell_type": "code",
   "execution_count": 7,
   "metadata": {
    "collapsed": false
   },
   "outputs": [
    {
     "name": "stdout",
     "output_type": "stream",
     "text": [
      "Number of training examples: 118\n",
      "Number of features: 2\n",
      "Initial Cost: 0.693\n"
     ]
    }
   ],
   "source": [
    "def sigmoid_hypothesis(z):\n",
    "    return 1/(1 + np.exp(-z))\n",
    "\n",
    "def compute_cost_reg(theta, X, y, lmbda=1):\n",
    "    theta = theta.reshape(X.shape[1],1)\n",
    "    m = float(X.shape[0])\n",
    "    z = X * theta\n",
    "    g = sigmoid_hypothesis(z)\n",
    "    \n",
    "    cost = 1./float(m) * (-y.T.dot(np.log(g)) - (1 - y).T.dot(np.log(1 - g)))\n",
    "    J = cost + lmbda/(2*m) * np.sum(np.square(theta))\n",
    "    return J\n",
    "    \n",
    "X, y = load_data(\"ex2data2.txt\")\n",
    "X = mapFeatures(X[:,0], X[:,1], degree=6)\n",
    "#X = np.c_[np.ones(len(X)), X]\n",
    "initial_theta = np.zeros((X.shape[1], 1))\n",
    "\n",
    "y = y.reshape(X.shape[0], 1)\n",
    "J = compute_cost_reg(initial_theta, X, y)\n",
    "print(\"Initial Cost: %.3f\" % J)"
   ]
  },
  {
   "cell_type": "markdown",
   "metadata": {},
   "source": [
    "### Optimization/Minimization"
   ]
  },
  {
   "cell_type": "markdown",
   "metadata": {},
   "source": [
    "Given this regularized cost function, we can compute the <b>regularized gradient</b> as the partial derivative of the cost function as follows: \n",
    "\n",
    "$$\\frac{\\delta}{\\delta \\theta_j} J(\\theta) = \\frac{1}{m} \\sum_{i=1}^m (x^{(i)}) (g(h_{\\theta}(x^{(i)})) - y^{(i)})+ \\frac{\\lambda}{m} \\sum_{j=1}^n \\theta_j.$$ \n",
    "\n",
    "The vectorized version of this regularized gradient is therefore\n",
    "\n",
    "$$\\frac{\\delta}{\\delta \\Theta} J(\\Theta) = \\frac{1}{m} X^T (g(\\Theta^T X) - Y)+ \\frac{\\lambda}{m} \\Theta.$$\n"
   ]
  },
  {
   "cell_type": "markdown",
   "metadata": {},
   "source": [
    "In python, this regularized gradient can be computed as follows:"
   ]
  },
  {
   "cell_type": "code",
   "execution_count": 8,
   "metadata": {
    "collapsed": false
   },
   "outputs": [],
   "source": [
    "def compute_gradient_reg(theta, X, y, lmbda=1):\n",
    "    z = X.dot(theta)\n",
    "    g = sigmoid_hypothesis(z)\n",
    "    loss = np.subtract(g, y)\n",
    "    return (X.T.dot(loss) + lmbda * theta)/float(X.shape[0])\n",
    "\n",
    "grad = compute_gradient_reg(initial_theta, X, y)"
   ]
  },
  {
   "cell_type": "markdown",
   "metadata": {},
   "source": [
    "Using this gradient, the optimal values for theta can then be computed using gradient descent\n",
    "\n",
    "$$\\theta_j = \\theta_j - \\alpha \\frac{\\delta}{\\delta \\theta_j} J(\\theta).$$"
   ]
  },
  {
   "cell_type": "code",
   "execution_count": 29,
   "metadata": {
    "collapsed": false
   },
   "outputs": [
    {
     "name": "stdout",
     "output_type": "stream",
     "text": [
      "Number of training examples: 118\n",
      "Number of features: 2\n",
      "Minimum gradient [[ 0.03416517 -0.04189799  0.02795678 -0.14738001 -0.03766206 -0.09674944\n",
      "  -0.04698362 -0.02037844 -0.02418191 -0.05591858 -0.11794334 -0.00645076\n",
      "  -0.03822671 -0.01001774 -0.10875732 -0.05544831 -0.01278985 -0.00951324\n",
      "  -0.01702599 -0.01395248 -0.08315177 -0.09295256 -0.00278329 -0.01919807\n",
      "  -0.00099426 -0.02165711 -0.0044489  -0.10899685]]\n",
      "Minimum cost [[ 0.66634679]]\n"
     ]
    }
   ],
   "source": [
    "import sys\n",
    "\n",
    "def gradient_descent_reg(theta, X, y, alpha=4.8, lmbda=1, max_iter=400):\n",
    "    best_theta = theta\n",
    "    min_cost = sys.maxsize\n",
    "    J_hist = np.zeros(max_iter)\n",
    "    grad_hist = list()\n",
    "    \n",
    "    for i in np.arange(max_iter):\n",
    "        grad = compute_gradient_reg(theta, X, y, lmbda)\n",
    "        grad_hist.append(grad)\n",
    "        theta = theta - (alpha * grad)\n",
    "        \n",
    "        J = compute_cost_reg(theta, X, y, lmbda)\n",
    "        J_hist[i] = J\n",
    "        if J < min_cost:\n",
    "            min_cost = J\n",
    "            best_theta = theta\n",
    "    return best_theta, min_cost, J_hist, grad_hist\n",
    "\n",
    "X, y = load_data(\"ex2data2.txt\")\n",
    "X = mapFeatures(X[:,0], X[:,1], degree=6)\n",
    "#X = np.c_[np.ones(len(X)), X]\n",
    "initial_theta = np.zeros((X.shape[1], 1))\n",
    "y = y.reshape(X.shape[0], 1)\n",
    "\n",
    "theta, min_cost, J_hist, grad_hist = gradient_descent_reg(initial_theta, X, y, 0.01, 10)\n",
    "print(\"Minimum gradient %s\" % theta.T)\n",
    "print(\"Minimum cost %s\" % min_cost)"
   ]
  },
  {
   "cell_type": "markdown",
   "metadata": {},
   "source": [
    "And as previously done, we can use an advanced optimization algorithm such as fminunc as follows:"
   ]
  },
  {
   "cell_type": "code",
   "execution_count": 24,
   "metadata": {
    "collapsed": false
   },
   "outputs": [
    {
     "name": "stdout",
     "output_type": "stream",
     "text": [
      "Number of training examples: 118\n",
      "Number of features: 2\n",
      "Warning: Maximum number of function evaluations has been exceeded.\n",
      "Cost=0.614, lambda=1.000000\n"
     ]
    }
   ],
   "source": [
    "import scipy.optimize as op\n",
    "\n",
    "options = {'full_output': True}\n",
    "\n",
    "X, y = load_data(\"ex2data2.txt\")\n",
    "X = mapFeatures(X[:,0], X[:,1], degree=6)\n",
    "y = y.reshape(X.shape[0], 1)\n",
    "\n",
    "initial_theta = np.zeros((X.shape[1], 1))\n",
    "\n",
    "lmbda = 1\n",
    "theta, cost, _, _, _ = \\\n",
    "        op.fmin(lambda t: compute_cost_reg(t, X, y, lmbda), initial_theta, **options)\n",
    " \n",
    "print(\"Cost=%.3f, lambda=%f\" % (cost, lmbda))"
   ]
  },
  {
   "cell_type": "markdown",
   "metadata": {},
   "source": [
    "Given the optimal parameters, we can then plot the decision boundary by updating our original function to deal with more than two variables as follows. "
   ]
  },
  {
   "cell_type": "markdown",
   "metadata": {},
   "source": [
    "## Part 3: Prediction"
   ]
  },
  {
   "cell_type": "code",
   "execution_count": 30,
   "metadata": {
    "collapsed": false
   },
   "outputs": [
    {
     "name": "stdout",
     "output_type": "stream",
     "text": [
      "Number of training examples: 118\n",
      "Number of features: 2\n",
      "Precision: 0.81\n"
     ]
    }
   ],
   "source": [
    "from sklearn.metrics import precision_score\n",
    "\n",
    "def predict(theta, X):\n",
    "    y_pred = np.zeros((X.shape[0], 1))\n",
    "    h = X.dot(theta)\n",
    "    g = sigmoid_hypothesis(h)\n",
    "    x_pos = np.where(g >= 0.5)\n",
    "    y_pred[x_pos] = 1\n",
    "    return y_pred\n",
    "\n",
    "X, y = load_data(\"ex2data2.txt\")\n",
    "X = mapFeatures(X[:,0], X[:,1], degree=6)\n",
    "y = y.reshape(X.shape[0], 1)\n",
    "theta = theta.reshape(X.shape[1], 1)\n",
    "\n",
    "y_pred = predict(theta, X)\n",
    "\n",
    "print(\"Precision: %.2f\" % precision_score(y.T, y_pred.T,average='micro'))"
   ]
  },
  {
   "cell_type": "markdown",
   "metadata": {},
   "source": [
    "The learned weights can be used to plot the decision boundary for various values of lambda. For $lambda = 1$ for example, "
   ]
  },
  {
   "cell_type": "code",
   "execution_count": 31,
   "metadata": {
    "collapsed": false
   },
   "outputs": [
    {
     "name": "stdout",
     "output_type": "stream",
     "text": [
      "Number of training examples: 118\n",
      "Number of features: 2\n"
     ]
    },
    {
     "data": {
      "image/png": "[encoded data removed]",
      "text/plain": [
       "<matplotlib.figure.Figure at 0x109e1d6a0>"
      ]
     },
     "metadata": {},
     "output_type": "display_data"
    }
   ],
   "source": [
    "plt.title('lambda = %s' % lmbda)\n",
    "plt.xlabel('Microchip Test 1')\n",
    "plt.ylabel('Microchip Test 2')\n",
    "\n",
    "degree=6\n",
    "X, y = load_data(\"ex2data2.txt\")\n",
    "x_pos = np.where(y == 1)\n",
    "x_neg = np.where(y == 0)\n",
    "\n",
    "adm = plt.scatter(X[x_pos][:,0], X[x_pos][:,1], marker='+', color='k')\n",
    "not_adm = plt.scatter(X[x_neg][:,0], X[x_neg][:,1], marker='o', color='y')\n",
    "\n",
    "X = mapFeatures(X[:,0], X[:,1], degree)\n",
    "xvals = np.linspace(np.min(X[:,1]),np.max(X[:,1]),num=50).reshape(50, 1)\n",
    "yvals = np.linspace(np.min(X[:,2]),np.max(X[:,2]),num=50).reshape(50, 1)\n",
    "z = np.zeros((len(xvals),len(yvals)))\n",
    "\n",
    "for i in range(len(xvals)):\n",
    "    for j in range(len(yvals)):\n",
    "        z[i,j] = mapFeatures(np.matrix(xvals[i]),np.matrix(yvals[j]),degree)*theta\n",
    "\n",
    "mX, mY = np.meshgrid(xvals, yvals);\n",
    "plt.contour(mX, mY, z, linewidth=1, colors='g');\n",
    "plt.legend((adm, not_adm), ('y = 1', 'y = 0'), scatterpoints=1, loc=\"upper right\")\n",
    "plt.show()"
   ]
  }
 ],
 "metadata": {
  "kernelspec": {
   "display_name": "Python 3",
   "language": "python",
   "name": "python3"
  },
  "language_info": {
   "codemirror_mode": {
    "name": "ipython",
    "version": 3
   },
   "file_extension": ".py",
   "mimetype": "text/x-python",
   "name": "python",
   "nbconvert_exporter": "python",
   "pygments_lexer": "ipython3",
   "version": "3.4.3"
  }
 },
 "nbformat": 4,
 "nbformat_minor": 0
}
