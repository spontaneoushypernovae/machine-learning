{
 "metadata": {
  "name": "",
  "signature": "sha256:2d23950acbdea7a848ce060f480b72631b36fd067807e80a6a733a56a2256b53"
 },
 "nbformat": 3,
 "nbformat_minor": 0,
 "worksheets": [
  {
   "cells": [
    {
     "cell_type": "heading",
     "level": 2,
     "metadata": {},
     "source": [
      "Overview"
     ]
    },
    {
     "cell_type": "markdown",
     "metadata": {},
     "source": [
      "In this second exercise I will cover linear regression for multiple variables in python, based on the Stanford Machine Learning Coursera course - Week 2, Programming Exercise 1: Linear Regression. "
     ]
    },
    {
     "cell_type": "heading",
     "level": 3,
     "metadata": {},
     "source": [
      "Part 1: Dataset"
     ]
    },
    {
     "cell_type": "code",
     "collapsed": false,
     "input": [],
     "language": "python",
     "metadata": {},
     "outputs": []
    }
   ],
   "metadata": {}
  }
 ]
}