{
 "metadata": {
  "name": "",
  "signature": "sha256:5b18c420f11ca848020788dd0f88b72293a0b939d9d874fcf8d4c1bad3508378"
 },
 "nbformat": 3,
 "nbformat_minor": 0,
 "worksheets": [
  {
   "cells": [
    {
     "cell_type": "heading",
     "level": 2,
     "metadata": {},
     "source": [
      "Overview"
     ]
    },
    {
     "cell_type": "markdown",
     "metadata": {},
     "source": [
      "In this first exercise I will review some core concepts and implement linear regression for one variable (in python), according to Programming Exercise 1: Linear Regression (Week 2) from the Stanford Machine Learning course on Coursera. Although the  implementation is applicable to multiple variables, application to more than one variable specifically will be covered in the next part of this series, Linear Regression-2. "
     ]
    },
    {
     "cell_type": "heading",
     "level": 3,
     "metadata": {},
     "source": [
      "Part 1: Dataset"
     ]
    },
    {
     "cell_type": "markdown",
     "metadata": {},
     "source": [
      "The dataset consists of 97 training examples that lists the profits made by a food truck business in several citiies. The first column contains the population of each city, and the second column contains the profits the food truck business generated in the given city. Our first task is to load the training examples into vectors. To achieve this we can use <a href=\"http://www.numpy.org/\">numpy</a> - one of python's scientific library packages."
     ]
    },
    {
     "cell_type": "code",
     "collapsed": false,
     "input": [
      "%matplotlib inline\n",
      "from numpy import loadtxt\n",
      "data = loadtxt('ex1data1.txt', delimiter=',')\n",
      "X = data[:,0]\n",
      "y = data[:,1]\n",
      "print \"Number of training examples: %s\" % len(X)\n",
      "assert len(X) == len(y)"
     ],
     "language": "python",
     "metadata": {},
     "outputs": [
      {
       "output_type": "stream",
       "stream": "stdout",
       "text": [
        "Number of training examples: 97\n"
       ]
      }
     ],
     "prompt_number": 4
    },
    {
     "cell_type": "markdown",
     "metadata": {},
     "source": [
      "We can then visualize the data though a 2-D plot, since it is low dimensional data (i.e., there is only one feature - `population` - in the problem space). On our plot, Population size is plotted on the x-axis (in 10,000s), while profit is plotted on the y-axis (in $10,000s)."
     ]
    },
    {
     "cell_type": "code",
     "collapsed": false,
     "input": [
      "import numpy as np\n",
      "import matplotlib.pyplot as plt\n",
      "\n",
      "plt.title('Distribution of Profits by Population') \n",
      "plt.xlabel('City Population (in 10,000s)')\n",
      "plt.ylabel('Profits (in $10,000s)')\n",
      "\n",
      "step = 2.0\n",
      "x_ticks = (np.ceil(X))\n",
      "plt.xticks(np.arange(min(x_ticks)-step, max(x_ticks)+step, step))\n",
      "plt.xlim(4, max(x_ticks)+step)\n",
      "plt.scatter(X, y, s=50, marker='x', c='r');"
     ],
     "language": "python",
     "metadata": {},
     "outputs": [
      {
       "metadata": {},
       "output_type": "display_data",
       "png": "[encoded data removed]",
       "text": [
        "<matplotlib.figure.Figure at 0x10cfd56d0>"
       ]
      }
     ],
     "prompt_number": 5
    },
    {
     "cell_type": "heading",
     "level": 3,
     "metadata": {},
     "source": [
      "Part 2: Training the Model"
     ]
    },
    {
     "cell_type": "markdown",
     "metadata": {},
     "source": [
      "Linear regression is technique that produces continuous values (or predictions) given a set of input data. Regression is distinct from classification approaches, which produce discrete values instead of continuous values. Linear regression is therefore not a classifier, but a regressor. The core idea in linear regression is to determine a linear function (or hyperplane) $y = a x + b$  that best approximates (or fits) the input data. To do this, the examples from the observed data are treated as truth values (i.e., x,y pairs), which are used to help us solve for $a$ and $b$ in our linear function. This task of <b>fitting</b> the linear regression model typically involves three main items:\n",
      "* Defining the <b>hypothesis function</b>\n",
      "* Computing the cost of each missed prediction under this hypothesis using a <b>cost function</b> \n",
      "* Minimizing the error in our predictions using <b>gradient descent</b> "
     ]
    },
    {
     "cell_type": "heading",
     "level": 4,
     "metadata": {},
     "source": [
      "Hypothesis Function"
     ]
    },
    {
     "cell_type": "markdown",
     "metadata": {},
     "source": [
      "The linear function (or hypothesis function) for linear regression with one variable can be represented as: \n",
      "\n",
      "$$h_{\\theta}(x) = \\theta_0 + \\theta_1  x_1,$$ \n",
      "\n",
      "where $\\theta_0$ is the y-intercept (or bias), $\\theta_1$ is the slope, $x$ is our input, and $h_{\\theta}(x)$ is the output. The goal is to find the optimal values for $\\theta_0$ and $\\theta_1$. "
     ]
    },
    {
     "cell_type": "markdown",
     "metadata": {},
     "source": [
      "To understand what is meant by optimal values, suppose we assume that $\\theta_0$ = 1 and $\\theta_1$=0.5. Then for the first training example $(x^{(1)}, y^{(1)}) = (6.1101,17.592)$ our hypothesis function would predict that\n",
      "\n",
      "$$h_{\\theta}(6.1101) = 1 + 0.5 \\times 17.592 = 9.796.$$\n",
      "\n",
      "This is an absolute error of 17.592 - 9.796 = 7.796. Suppose instead we assume that $\\theta_0=1$ and $\\theta_1=1$. This yields the hypothesis function\n",
      "\n",
      "$$h_{\\theta}(x) = 1 + x_1,$$ since $h_{\\theta}(x) = 1 x_0 + 1 x_1$, where $x_0=1$ (i.e., the bias). Under this hypothesis, we obtain a smaller error (18.592 - 17.592 = 1), however, this is also not the optimal set of parameters for $\\theta_0$ and $\\theta_1$.  The figure below shows the decision boundary under this hypothesis, and it should be clear that this is not the best decision boundary. "
     ]
    },
    {
     "cell_type": "code",
     "collapsed": false,
     "input": [
      "Xvals = X\n",
      "step = 2.0\n",
      "\n",
      "plt.title('Distribution of Profits by Population') \n",
      "plt.xlabel('City Population (in 10,000s)')\n",
      "plt.ylabel('Profits (in $10,000s)')\n",
      "\n",
      "x_ticks = (np.ceil(Xvals))\n",
      "plt.xticks(np.arange(min(x_ticks)-step, max(x_ticks)+step, step))\n",
      "plt.xlim(0, max(x_ticks)+step)\n",
      "plt.ylim(0, max(y)+step)\n",
      "plt.scatter(Xvals, y, s=50, marker='x', c='r');\n",
      "plt.plot([0,max(Xvals)], [1,max(Xvals)], '--k');"
     ],
     "language": "python",
     "metadata": {},
     "outputs": [
      {
       "metadata": {},
       "output_type": "display_data",
       "png": "[encoded data removed]",
       "text": [
        "<matplotlib.figure.Figure at 0x10cfd5810>"
       ]
      }
     ],
     "prompt_number": 6
    },
    {
     "cell_type": "markdown",
     "metadata": {},
     "source": [
      "To obtain optimal values for theta, we must compute the total cost associated with all our predictions across all the data using a cost function, and then try to <b>minimize</b> the overall cost."
     ]
    },
    {
     "cell_type": "heading",
     "level": 4,
     "metadata": {},
     "source": [
      "Cost Function"
     ]
    },
    {
     "cell_type": "markdown",
     "metadata": {},
     "source": [
      "For linear regression, the error in each prediction is computed using the <b>mean squared error</b> as follows:"
     ]
    },
    {
     "cell_type": "markdown",
     "metadata": {},
     "source": [
      "$$J(\\theta) = \\frac{1}{2m}  \\sum_{i=1}^m (h_{\\theta}(x^{(i)}) - y^{(i)}) ^2$$"
     ]
    },
    {
     "cell_type": "markdown",
     "metadata": {},
     "source": [
      "To minimize the cost, we first randomly initialize a set of weights \n",
      "\n",
      "$$\\Theta = \\begin{bmatrix}\\theta_0 \\\\ \\theta_1\\end{bmatrix},$$ \n",
      "\n",
      "compute the cost of each prediction under these initial parameters using $J(\\theta)$, then update our parameters and iteratively repeat this procedure.  In python, we can use numpy to initialize a 1-D array of zeros for the initial set of parameters. "
     ]
    },
    {
     "cell_type": "code",
     "collapsed": false,
     "input": [
      "theta = np.zeros(2)\n",
      "print \"Initial Parameters: %s\\nShape: %s\" % (theta, theta.shape)"
     ],
     "language": "python",
     "metadata": {},
     "outputs": [
      {
       "output_type": "stream",
       "stream": "stdout",
       "text": [
        "Initial Parameters: [ 0.  0.]\n",
        "Shape: (2,)\n"
       ]
      }
     ],
     "prompt_number": 7
    },
    {
     "cell_type": "markdown",
     "metadata": {},
     "source": [
      "To account for the bias in the training examples $X$ we add an extra column of ones to the training set."
     ]
    },
    {
     "cell_type": "code",
     "collapsed": false,
     "input": [
      "x_zero = np.ones(len(X))\n",
      "X = np.column_stack([x_zero, X])\n",
      "print X.shape"
     ],
     "language": "python",
     "metadata": {},
     "outputs": [
      {
       "output_type": "stream",
       "stream": "stdout",
       "text": [
        "(97, 2)\n"
       ]
      }
     ],
     "prompt_number": 8
    },
    {
     "cell_type": "markdown",
     "metadata": {},
     "source": [
      "The original hypothesis can therefore now be rewritten as $h_{\\theta}(x) = \\theta_0 x_0 + \\theta_1  x_1,$ where $x_0$ = 1. In vectorized form across all the training examples the hypothesis becomes: \n",
      "\n",
      "$$h_{\\Theta}(X) = \\Theta^T X,$$ where $h_{\\theta}(X)$ is the dot product of theta-transpose and the training examples. \n",
      "\n",
      "We can therefore compute the vectorized cost function $$J(\\Theta) = \\frac{1}{2m} (h_{\\Theta}(X) - Y)^2$$ using $h_{\\Theta}(X).$ Note that this vectorized format is also equivalent to $$J(\\Theta) = \\frac{1}{2m} (\\Theta^T X - Y)^T (\\Theta^T X - Y).$$ "
     ]
    },
    {
     "cell_type": "markdown",
     "metadata": {},
     "source": [
      "In python, we can compute this cost using numpy"
     ]
    },
    {
     "cell_type": "code",
     "collapsed": false,
     "input": [
      "m = len(X)\n",
      "h = np.dot(X, theta.T)\n",
      "J = (1/float(2*m)) * np.sum(np.square(h - y))\n",
      "print \"Initial Cost: %.2f\" % J"
     ],
     "language": "python",
     "metadata": {},
     "outputs": [
      {
       "output_type": "stream",
       "stream": "stdout",
       "text": [
        "Initial Cost: 32.07\n"
       ]
      }
     ],
     "prompt_number": 9
    },
    {
     "cell_type": "heading",
     "level": 4,
     "metadata": {},
     "source": [
      "Optimization/Minimization/Gradient Descent"
     ]
    },
    {
     "cell_type": "markdown",
     "metadata": {},
     "source": [
      "To minimize the error we can use <b>gradient descent</b>; specifically <b>batch gradient descent</b>. Other types of gradient descent include <b>mini-batch gradient descent</b> and <b>stochastic gradient descent</b>, which will be covered in subsequent exercises. The idea behind gradient descent is to begin with random values for the parameters $\\theta$, compute the cost, then iteratively update the parameters to produce smaller and smaller costs at each iteration. In calculus, the minimum value of a function can be achieved by differentiating the function, setting the derivative to zero, and then solving for the unknowns. The partial derivative of the cost function $J(\\theta)$ w.r.t. $\\theta$ is: $$\\frac{d}{d\\delta}J(\\theta) = \\frac{1}{m}\\sum_{i=1}^m(h_{\\theta}(x^{(i)}) - y^{(i)}) x^{(i)}$$\n",
      "\n",
      "since,\n",
      "\n",
      "$J(\\theta) = \\frac{1}{2m}  \\sum_{i=1}^m (h_{\\theta}(x^{(i)}) - y^{(i)}) ^2$ and\n",
      "\n",
      "$J(\\Theta)= \\frac{1}{2m} \\sum_{i=1}^m ({(\\theta^{(i)}})^T x^{(i)} - y^{(i)}) ^2$, where $h_{\\theta}(x^{(i)}) = {(\\theta^{(i)}})^T x^{(i)}$"
     ]
    },
    {
     "cell_type": "markdown",
     "metadata": {},
     "source": [
      "Gradient descent can therefore be computed in batch mode across all the training examples using the following procedure,"
     ]
    },
    {
     "cell_type": "markdown",
     "metadata": {},
     "source": [
      "Repeat until convergence: {\n",
      "\n",
      "$\\theta_j = \\theta_j - \\frac{\\alpha}{m} \\sum_{i=1}^m(h_{\\theta}(x^{(i)}) - y^{(i)})) x^{(i)}_j$\n",
      "\n",
      "}\n",
      "\n",
      "for $j = (0,1,\\ldots, n)$, where $\\alpha$ is the learning rate that influences how quickly the algorithm converges and $\\theta_j$ is the weight of the $j^{th}$ feature.\n",
      "\n",
      "Note that in vectorized form, gradient descent can be computed using\n",
      "$\\Theta = \\Theta - \\frac{\\alpha}{m} (X^T (\\Theta^T X - Y))$. Also note that in order to take the bias $\\theta_0$ into account it is important that $x_0$ be set to all ones in the training set $X$, as we have previously done. \n",
      "\n",
      "In python, gradient descent can be implemented as follows:\n"
     ]
    },
    {
     "cell_type": "code",
     "collapsed": false,
     "input": [
      "n_iter = 1500\n",
      "alpha = 0.01\n",
      "\n",
      "#compute initial cost\n",
      "theta = np.zeros(2)\n",
      "h = np.dot(X, theta.T)\n",
      "J = (1/float(2*m)) * np.sum(np.square(h - y))\n",
      "print \"Initial Cost: %.2f\" % J\n",
      "\n",
      "J_hist = np.zeros(n_iter)\n",
      "\n",
      "for i in np.arange(n_iter):\n",
      "    #update the weights\n",
      "    theta = theta - (alpha/float(m)) * np.dot(X.T, (h - y))\n",
      "\n",
      "    #compute the updated cost\n",
      "    h = np.dot(X, theta.T)\n",
      "    J_hist[i] = (1/float(2*m)) * np.sum(np.square(h - y))\n",
      "    \n",
      "J = J_hist[-1]\n",
      "\n",
      "print \"Minimized Cost: %.2f\" % J\n",
      "print \"Optimal Thetas: %s\" % theta"
     ],
     "language": "python",
     "metadata": {},
     "outputs": [
      {
       "output_type": "stream",
       "stream": "stdout",
       "text": [
        "Initial Cost: 32.07\n",
        "Minimized Cost: 4.48\n",
        "Optimal Thetas: [-3.63029144  1.16636235]\n"
       ]
      }
     ],
     "prompt_number": 10
    },
    {
     "cell_type": "markdown",
     "metadata": {},
     "source": [
      "Accodring to this implementation, the mimimal cost is 4.48, which gives us a hypothesis that is \n",
      "\n",
      "$$h_{\\theta}(x) = -3.63 + 1.17 x.$$ "
     ]
    },
    {
     "cell_type": "markdown",
     "metadata": {},
     "source": [
      "In the following plot, the solid blue line represents this (optimal) decision boundary. "
     ]
    },
    {
     "cell_type": "code",
     "collapsed": false,
     "input": [
      "Xvals = X[:,[1]]\n",
      "step = 2.0\n",
      "\n",
      "plt.title('Distribution of Profits by Population') \n",
      "plt.xlabel('City Population (in 10,000s)')\n",
      "plt.ylabel('Profits (in $10,000s)')\n",
      "\n",
      "x_ticks = (np.ceil(Xvals))\n",
      "plt.xticks(np.arange(min(x_ticks)-step, max(x_ticks)+step, step))\n",
      "plt.xlim(0, max(x_ticks)+step)\n",
      "plt.ylim(0, max(y)+step)\n",
      "plt.scatter(Xvals, y, s=50, marker='x', c='r');\n",
      "plt.plot(Xvals, np.dot(X, theta.T), '--b');\n",
      "plt.plot([0,max(Xvals)], [1,max(Xvals)], '--k');"
     ],
     "language": "python",
     "metadata": {},
     "outputs": [
      {
       "metadata": {},
       "output_type": "display_data",
       "png": "[encoded data removed]",
       "text": [
        "<matplotlib.figure.Figure at 0x10ab7ca50>"
       ]
      }
     ],
     "prompt_number": 12
    },
    {
     "cell_type": "heading",
     "level": 3,
     "metadata": {},
     "source": [
      "Part 3: Prediction"
     ]
    },
    {
     "cell_type": "markdown",
     "metadata": {},
     "source": [
      "Given the learned weights (or the model) we can now predict expected profits on unseen (or test) examples. For instance, we can predict that for a city population of 35,000 the food truck business can expect to earn about $4520. That is,"
     ]
    },
    {
     "cell_type": "code",
     "collapsed": false,
     "input": [
      "X_test = [1, 3.5]\n",
      "y_pred = np.dot(X_test, theta.T) * 10000 \n",
      "print y_pred"
     ],
     "language": "python",
     "metadata": {},
     "outputs": [
      {
       "output_type": "stream",
       "stream": "stdout",
       "text": [
        "4519.7678677\n"
       ]
      }
     ],
     "prompt_number": 13
    },
    {
     "cell_type": "markdown",
     "metadata": {},
     "source": [
      "Similarly, for a city population of 70,000 the business can expect to make about $45,342"
     ]
    },
    {
     "cell_type": "code",
     "collapsed": false,
     "input": [
      "X_test = [1, 7]\n",
      "y_pred = np.dot(X_test, theta.T) * 10000\n",
      "print y_pred"
     ],
     "language": "python",
     "metadata": {},
     "outputs": [
      {
       "output_type": "stream",
       "stream": "stdout",
       "text": [
        "45342.4501294\n"
       ]
      }
     ],
     "prompt_number": 14
    },
    {
     "cell_type": "heading",
     "level": 3,
     "metadata": {},
     "source": [
      "Part 4: Putting it all together"
     ]
    },
    {
     "cell_type": "markdown",
     "metadata": {},
     "source": [
      "The complete implementation for linear regression centers around two functions: $fit(\\ldots)$ and $predict(\\ldots)$. The algorithm is as follows:\n",
      "\n",
      "* Load the training/test data into vectors\n",
      "* Initialize the parameters to zeros\n",
      "* Compute the initial cost\n",
      "* Repeatedly compute the costs and use it to update the gradients (for some number of iterations)\n",
      "* Apply the learned parameters to the test set\n"
     ]
    },
    {
     "cell_type": "code",
     "collapsed": false,
     "input": [
      "import os\n",
      "import numpy as np\n",
      "import matplotlib.pyplot as plt\n",
      "\n",
      "class MyLinearRegressor(object):\n",
      "    \"\"\"Linear Regression for n-variables\n",
      "    \n",
      "    Attributes\n",
      "    ----------\n",
      "    alpha : float \n",
      "        (optional) Learning rate. Default=0.01\n",
      "        \n",
      "    iters : int\n",
      "        (optional) Max iterations for gradient descent. \n",
      "        Default=100\n",
      "        \n",
      "    theta : numpy array-like matrix\n",
      "        Paramaters to be learned\n",
      "        \n",
      "    n_examples : int\n",
      "        Size of the training examples\n",
      "    \"\"\"\n",
      "    \n",
      "    def __init__(self, alpha=0.01, iters=100, n_features=1):\n",
      "        self.alpha = alpha\n",
      "        self.n_iter = iters\n",
      "        self.n_examples = 0\n",
      "        self.n_features = n_features\n",
      "        \n",
      "        self.theta = None\n",
      "        self.J_hist = np.zeros(self.n_iter) \n",
      "        self.theta_hist = np.zeros((self.n_iter, self.n_features+1)) \n",
      "    \n",
      "    def compute_cost(self, X, y):\n",
      "        \"\"\"Given a set of training examples, predictions, and parameters\n",
      "        estimate the cost using the linear hypothesis function\n",
      "        \n",
      "        Parameters\n",
      "        ----------\n",
      "        X : numpy array-like matrix \n",
      "            Training examples\n",
      "            \n",
      "        y : numpy array\n",
      "            Labels vector\n",
      "            \n",
      "        Returns\n",
      "        -------\n",
      "        J : float\n",
      "            Cost of the predictions under given parameters\n",
      "        \"\"\"\n",
      "        J = (1/float(2*self.n_examples)) * \\\n",
      "                np.sum(np.square(self.decision_function(X) - y))\n",
      "        return J\n",
      "    \n",
      "    def compute_gradient(self, X, y):\n",
      "        \"\"\"The function updates the paramaters using\n",
      "        batch gradient descent. The default stopping\n",
      "        condition is a fixed number of iterations. \n",
      "        \n",
      "        Parameters\n",
      "        ----------\n",
      "        X : numpy array-like matrix \n",
      "            Training examples\n",
      "            \n",
      "        y : numpy array\n",
      "            Labels vector\n",
      "        \"\"\"\n",
      "        \n",
      "        for i in np.arange(self.n_iter):\n",
      "            #update the weights\n",
      "            self.theta = self.theta - \\\n",
      "                            (self.alpha/float(self.n_examples)) * \\\n",
      "                                np.dot(X.T, (self.decision_function(X) - y))\n",
      "            \n",
      "            #compute the updated cost\n",
      "            J = self.compute_cost(X, y)\n",
      "            \n",
      "            self.J_hist[i] = J\n",
      "            self.theta_hist[i] = self.theta\n",
      "            \n",
      "    def get_params(self):\n",
      "        \"\"\"Retrieves the weights of the trained model\"\"\"\n",
      "        return self.theta\n",
      "    \n",
      "    def decision_function(self, X):\n",
      "        \"\"\"The decision function used for prediction\n",
      "        \n",
      "        Parameters\n",
      "        ----------\n",
      "        X : numpy array-like matrix \n",
      "            Training examples\n",
      "        \n",
      "        Returns\n",
      "        -------\n",
      "        h : float\n",
      "            Predicted values\n",
      "        \"\"\"\n",
      "        return np.dot(X, self.theta.T)\n",
      "        \n",
      "    def fit(self, X, y):\n",
      "        \"\"\"Determines the optimal weights/parameters\n",
      "        for the model by using batch gradient descent \n",
      "        \n",
      "        Parameters\n",
      "        ----------\n",
      "        X : numpy array-like matrix \n",
      "            Training examples\n",
      "            \n",
      "        y : numpy array\n",
      "            Labels vector\n",
      "        \"\"\"\n",
      "        self.n_examples = len(X)\n",
      "        \n",
      "        x_zero = np.ones(len(X))\n",
      "        X = np.column_stack([x_zero, X])\n",
      "\n",
      "        n = X.shape[1]\n",
      "        self.theta = np.zeros(n)\n",
      "            \n",
      "        J = self.compute_cost(X, y)\n",
      "        print \"Initial Cost: %.2f\" % J\n",
      "        \n",
      "        self.compute_gradient(X, y)\n",
      "        \n",
      "        print \"Minimized Cost: %.2f\" % self.J_hist[-1]\n",
      "        print \"Optimal Thetas: %s\" % self.theta\n",
      "    \n",
      "    def predict(self, X_test):\n",
      "        \"\"\"Predicts continuous value for unseen test\n",
      "        examples using the learned weights\n",
      "        \n",
      "        Parameters\n",
      "        ----------\n",
      "        X_text : numpy array-like matrix\n",
      "            Test set examples\n",
      "        \n",
      "        \"\"\"\n",
      "        for x in X_test:\n",
      "            y_pred = np.dot(x, self.theta.T) * 10000 \n",
      "            print \"Predicted: %.0f\" % y_pred\n",
      "    \n",
      "def load_data(input_file, delim=','):\n",
      "    \"\"\"Loads the data for our problem\"\"\"\n",
      "    \n",
      "    data = np.loadtxt(input_file, delimiter=delim)\n",
      "    X = data[:, 0]\n",
      "    y = data[:, 1]\n",
      "    assert len(X) == len(y)\n",
      "    return X, y\n",
      "\n",
      "def plot_decision(X, y, regressor):\n",
      "    plt.title('Distribution of Profits by Population') \n",
      "    plt.xlabel('City Population (in 10,000s)')\n",
      "    plt.ylabel('Profits (in $10,000s)')\n",
      "    \n",
      "    theta = regressor.get_params()\n",
      "    step = 2.0\n",
      "    x_zero = np.ones(len(X))\n",
      "    X_n = np.column_stack([x_zero, X])\n",
      "    \n",
      "    x_ticks = (np.ceil(X))\n",
      "    plt.xticks(np.arange(min(x_ticks)-step, max(x_ticks)+step, step))\n",
      "    plt.xlim(0, max(x_ticks)+step)\n",
      "    plt.ylim(0, max(y)+step)\n",
      "    plt.scatter(X, y, s=50, marker='x', c='r');\n",
      "    plt.plot(X, np.dot(X_n, theta.T), '--b');\n",
      "    plt.plot([0,max(X)], [1,max(X)], '--k');\n",
      "    plt.show()\n",
      "\n",
      "def plot_gradient(X, regressor):\n",
      "    plt.title('Gradient Distribution') \n",
      "    plt.xlabel('Number of Iterations')\n",
      "    plt.ylabel('Cost J')\n",
      "    \n",
      "    J_hist = regressor.J_hist\n",
      "    \n",
      "    step = 0.5\n",
      "    plt.yticks(np.arange(min(J_hist)-step, max(J_hist)+step, step))\n",
      "    plt.plot(np.arange(len(J_hist)), J_hist, '.g', linewidth=0.2)\n",
      "    plt.show()\n",
      "    \n",
      "if __name__ == \"__main__\":\n",
      "    input_file = os.path.abspath(\\\n",
      "                    os.path.join(os.path.dirname(\"..\"), \\\n",
      "                        \"ex1data1.txt\"))\n",
      "    \n",
      "    #load training/test data\n",
      "    X, y = load_data(input_file)\n",
      "    X_test = np.array([[1, 3.5], [1, 7.0]])\n",
      "    \n",
      "    regressor = MyLinearRegressor(alpha=0.01, \\\n",
      "                            iters=1500, n_features=1)\n",
      "    \n",
      "    #learn the weights\n",
      "    regressor.fit(X,y)\n",
      "    \n",
      "    #apply learned weights to test data\n",
      "    regressor.predict(X_test)\n",
      "    \n",
      "    plot_decision(X, y, regressor)\n",
      "    plot_gradient(X, regressor)"
     ],
     "language": "python",
     "metadata": {},
     "outputs": [
      {
       "output_type": "stream",
       "stream": "stdout",
       "text": [
        "Initial Cost: 32.07\n",
        "Minimized Cost: 4.48\n",
        "Optimal Thetas: [-3.63029144  1.16636235]\n",
        "Predicted: 4520\n",
        "Predicted: 45342\n"
       ]
      },
      {
       "metadata": {},
       "output_type": "display_data",
       "png": "[encoded data removed]",
       "text": [
        "<matplotlib.figure.Figure at 0x10d5dc5d0>"
       ]
      },
      {
       "metadata": {},
       "output_type": "display_data",
       "png": "[encoded data removed]",
       "text": [
        "<matplotlib.figure.Figure at 0x10933ff50>"
       ]
      }
     ],
     "prompt_number": 15
    },
    {
     "cell_type": "markdown",
     "metadata": {},
     "source": [
      "The fully implemented code is available <a href=\"linearregression.py\">here</a>. In the next section we'll look at linear regression with multiple variables."
     ]
    }
   ],
   "metadata": {}
  }
 ]
}